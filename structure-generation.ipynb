{
 "cells": [
  {
   "cell_type": "code",
   "execution_count": 1,
   "id": "23cb0d91-e113-4707-a01f-172427e4e1d4",
   "metadata": {},
   "outputs": [],
   "source": [
    "import json\n",
    "import os\n",
    "import ase.io\n",
    "\n",
    "from ase.io                       import write\n",
    "from ase.io.vasp                  import read_vasp\n",
    "from ase.build                    import bulk, sort\n",
    "from ase.calculators.emt          import EMT\n",
    "from hiphive.structure_generation import generate_mc_rattled_structures"
   ]
  },
  {
   "cell_type": "markdown",
   "id": "126feb2b-7c14-47e0-9088-2d90928a0242",
   "metadata": {},
   "source": [
    "Read structures containing displacements and forces"
   ]
  },
  {
   "cell_type": "code",
   "execution_count": 2,
   "id": "dbafdfb3",
   "metadata": {},
   "outputs": [],
   "source": [
    "#root_path = f'data/CrN-riccardo-slightly-distorted/PM/SC_2x2x2_Vol_76.69'\n",
    "#root_path = f'data/CrN-riccardo-slightly-distorted/PM/SC_2x2x2_Vol_76.31'\n",
    "#root_path = f'data/CrN-riccardo-slightly-distorted/PM/SC_2x2x2_Vol_75.93'\n",
    "root_path = f'data/CrN-riccardo-slightly-distorted/PM/SC_2x2x2_Vol_75.56'\n",
    "\n",
    "# Parameters\n",
    "n_structures     = 500\n",
    "rattle_std       = 0.03  # 0.03\n",
    "minimum_distance = 2.3\n",
    "cell_size        = [2, 2, 2]\n",
    "\n",
    "# Create and save as a dictionary\n",
    "setup_variables = {\n",
    "    'root_path':        root_path,\n",
    "    'n_structures':     n_structures,\n",
    "    'rattle_std':       rattle_std,\n",
    "    'minimum_distance': minimum_distance,\n",
    "    'cell_size':        cell_size\n",
    "}\n",
    "\n",
    "# Write the dictionary to the file in JSON format\n",
    "with open(f'{root_path}/structure_generation_variables.json', 'w') as json_file:\n",
    "    json.dump(setup_variables, json_file)"
   ]
  },
  {
   "cell_type": "code",
   "execution_count": 3,
   "id": "b883c0c3",
   "metadata": {},
   "outputs": [
    {
     "name": "stdout",
     "output_type": "stream",
     "text": [
      "Exception 0 occurred: Exceeded the maximum number of attempts for atom 21\n",
      "Exception 1 occurred: Exceeded the maximum number of attempts for atom 2\n",
      "Exception 2 occurred: Exceeded the maximum number of attempts for atom 0\n",
      "Exception 3 occurred: Exceeded the maximum number of attempts for atom 46\n",
      "Exception 4 occurred: Exceeded the maximum number of attempts for atom 1\n",
      "Exception 5 occurred: Exceeded the maximum number of attempts for atom 37\n",
      "Exception 6 occurred: Exceeded the maximum number of attempts for atom 27\n",
      "Exception 7 occurred: Exceeded the maximum number of attempts for atom 56\n",
      "Exception 8 occurred: Exceeded the maximum number of attempts for atom 58\n",
      "Exception 9 occurred: Exceeded the maximum number of attempts for atom 31\n",
      "Exception 10 occurred: Exceeded the maximum number of attempts for atom 7\n",
      "Exception 11 occurred: Exceeded the maximum number of attempts for atom 11\n",
      "Exception 12 occurred: Exceeded the maximum number of attempts for atom 55\n",
      "Exception 13 occurred: Exceeded the maximum number of attempts for atom 12\n",
      "Exception 14 occurred: Exceeded the maximum number of attempts for atom 62\n",
      "Exception 15 occurred: Exceeded the maximum number of attempts for atom 17\n",
      "Exception 16 occurred: Exceeded the maximum number of attempts for atom 16\n",
      "Exception 17 occurred: Exceeded the maximum number of attempts for atom 22\n",
      "Exception 18 occurred: Exceeded the maximum number of attempts for atom 30\n",
      "Exception 19 occurred: Exceeded the maximum number of attempts for atom 55\n",
      "Exception 20 occurred: Exceeded the maximum number of attempts for atom 40\n",
      "Exception 21 occurred: Exceeded the maximum number of attempts for atom 37\n"
     ]
    },
    {
     "ename": "KeyboardInterrupt",
     "evalue": "",
     "output_type": "error",
     "traceback": [
      "\u001b[0;31m---------------------------------------------------------------------------\u001b[0m",
      "\u001b[0;31mKeyboardInterrupt\u001b[0m                         Traceback (most recent call last)",
      "Cell \u001b[0;32mIn[3], line 9\u001b[0m\n\u001b[1;32m      6\u001b[0m atoms_ideal \u001b[38;5;241m=\u001b[39m prim\u001b[38;5;241m.\u001b[39mrepeat(cell_size)\n\u001b[1;32m      8\u001b[0m \u001b[38;5;66;03m# Generate the structures\u001b[39;00m\n\u001b[0;32m----> 9\u001b[0m structures \u001b[38;5;241m=\u001b[39m \u001b[43mgenerate_mc_rattled_structures\u001b[49m\u001b[43m(\u001b[49m\u001b[43matoms_ideal\u001b[49m\u001b[43m,\u001b[49m\u001b[43m \u001b[49m\u001b[43mn_structures\u001b[49m\u001b[43m,\u001b[49m\u001b[43m \u001b[49m\u001b[43mrattle_std\u001b[49m\u001b[43m,\u001b[49m\u001b[43m \u001b[49m\u001b[43mminimum_distance\u001b[49m\u001b[43m,\u001b[49m\n\u001b[1;32m     10\u001b[0m \u001b[43m                                           \u001b[49m\u001b[43mseed\u001b[49m\u001b[38;5;241;43m=\u001b[39;49m\u001b[43mi\u001b[49m\u001b[43m)\u001b[49m\n\u001b[1;32m     12\u001b[0m \u001b[38;5;28mprint\u001b[39m(\u001b[38;5;124m\"\u001b[39m\u001b[38;5;124mNo exception occurred. Exiting loop.\u001b[39m\u001b[38;5;124m\"\u001b[39m)\n\u001b[1;32m     13\u001b[0m \u001b[38;5;28;01mbreak\u001b[39;00m  \u001b[38;5;66;03m# Exit the loop if no exception occurred\u001b[39;00m\n",
      "File \u001b[0;32m/Library/Frameworks/Python.framework/Versions/3.11/lib/python3.11/site-packages/hiphive/structure_generation/rattle.py:112\u001b[0m, in \u001b[0;36mgenerate_mc_rattled_structures\u001b[0;34m(atoms, n_structures, rattle_std, d_min, seed, **kwargs)\u001b[0m\n\u001b[1;32m    110\u001b[0m atoms_tmp \u001b[38;5;241m=\u001b[39m atoms\u001b[38;5;241m.\u001b[39mcopy()\n\u001b[1;32m    111\u001b[0m seed \u001b[38;5;241m=\u001b[39m rs\u001b[38;5;241m.\u001b[39mrandint(\u001b[38;5;241m1\u001b[39m, \u001b[38;5;241m1000000000\u001b[39m)\n\u001b[0;32m--> 112\u001b[0m displacements \u001b[38;5;241m=\u001b[39m \u001b[43mmc_rattle\u001b[49m\u001b[43m(\u001b[49m\u001b[43matoms_tmp\u001b[49m\u001b[43m,\u001b[49m\u001b[43m \u001b[49m\u001b[43mrattle_std\u001b[49m\u001b[43m,\u001b[49m\u001b[43m \u001b[49m\u001b[43md_min\u001b[49m\u001b[43m,\u001b[49m\u001b[43m \u001b[49m\u001b[43mseed\u001b[49m\u001b[38;5;241;43m=\u001b[39;49m\u001b[43mseed\u001b[49m\u001b[43m,\u001b[49m\u001b[43m \u001b[49m\u001b[38;5;241;43m*\u001b[39;49m\u001b[38;5;241;43m*\u001b[39;49m\u001b[43mkwargs\u001b[49m\u001b[43m)\u001b[49m\n\u001b[1;32m    113\u001b[0m atoms_tmp\u001b[38;5;241m.\u001b[39mpositions \u001b[38;5;241m+\u001b[39m\u001b[38;5;241m=\u001b[39m displacements\n\u001b[1;32m    114\u001b[0m atoms_list\u001b[38;5;241m.\u001b[39mappend(atoms_tmp)\n",
      "File \u001b[0;32m/Library/Frameworks/Python.framework/Versions/3.11/lib/python3.11/site-packages/hiphive/structure_generation/rattle.py:207\u001b[0m, in \u001b[0;36mmc_rattle\u001b[0;34m(atoms, rattle_std, d_min, width, n_iter, max_attempts, max_disp, active_atoms, nbr_cutoff, seed)\u001b[0m\n\u001b[1;32m    205\u001b[0m     min_distance \u001b[38;5;241m=\u001b[39m np\u001b[38;5;241m.\u001b[39minf\n\u001b[1;32m    206\u001b[0m \u001b[38;5;28;01melse\u001b[39;00m:\n\u001b[0;32m--> 207\u001b[0m     min_distance \u001b[38;5;241m=\u001b[39m np\u001b[38;5;241m.\u001b[39mmin(\u001b[43matoms_rattle\u001b[49m\u001b[38;5;241;43m.\u001b[39;49m\u001b[43mget_distances\u001b[49m\u001b[43m(\u001b[49m\u001b[43mi\u001b[49m\u001b[43m,\u001b[49m\u001b[43m \u001b[49m\u001b[43mi_nbrs\u001b[49m\u001b[43m,\u001b[49m\u001b[43m \u001b[49m\u001b[43mmic\u001b[49m\u001b[38;5;241;43m=\u001b[39;49m\u001b[38;5;28;43;01mTrue\u001b[39;49;00m\u001b[43m)\u001b[49m)\n\u001b[1;32m    209\u001b[0m \u001b[38;5;66;03m# accept or reject delta_disp\u001b[39;00m\n\u001b[1;32m    210\u001b[0m \u001b[38;5;28;01mif\u001b[39;00m _probability_mc_rattle(min_distance, d_min, width) \u001b[38;5;241m>\u001b[39m rs\u001b[38;5;241m.\u001b[39mrand():\n\u001b[1;32m    211\u001b[0m     \u001b[38;5;66;03m# accept delta_disp\u001b[39;00m\n",
      "File \u001b[0;32m/Library/Frameworks/Python.framework/Versions/3.11/lib/python3.11/site-packages/ase/atoms.py:1752\u001b[0m, in \u001b[0;36mAtoms.get_distances\u001b[0;34m(self, a, indices, mic, vector)\u001b[0m\n\u001b[1;32m   1749\u001b[0m     cell \u001b[38;5;241m=\u001b[39m \u001b[38;5;28mself\u001b[39m\u001b[38;5;241m.\u001b[39mcell\n\u001b[1;32m   1750\u001b[0m     pbc \u001b[38;5;241m=\u001b[39m \u001b[38;5;28mself\u001b[39m\u001b[38;5;241m.\u001b[39mpbc\n\u001b[0;32m-> 1752\u001b[0m D, D_len \u001b[38;5;241m=\u001b[39m \u001b[43mget_distances\u001b[49m\u001b[43m(\u001b[49m\u001b[43mp1\u001b[49m\u001b[43m,\u001b[49m\u001b[43m \u001b[49m\u001b[43mp2\u001b[49m\u001b[43m,\u001b[49m\u001b[43m \u001b[49m\u001b[43mcell\u001b[49m\u001b[38;5;241;43m=\u001b[39;49m\u001b[43mcell\u001b[49m\u001b[43m,\u001b[49m\u001b[43m \u001b[49m\u001b[43mpbc\u001b[49m\u001b[38;5;241;43m=\u001b[39;49m\u001b[43mpbc\u001b[49m\u001b[43m)\u001b[49m\n\u001b[1;32m   1754\u001b[0m \u001b[38;5;28;01mif\u001b[39;00m vector:\n\u001b[1;32m   1755\u001b[0m     D\u001b[38;5;241m.\u001b[39mshape \u001b[38;5;241m=\u001b[39m (\u001b[38;5;241m-\u001b[39m\u001b[38;5;241m1\u001b[39m, \u001b[38;5;241m3\u001b[39m)\n",
      "File \u001b[0;32m/Library/Frameworks/Python.framework/Versions/3.11/lib/python3.11/site-packages/ase/geometry/geometry.py:376\u001b[0m, in \u001b[0;36mget_distances\u001b[0;34m(p1, p2, cell, pbc)\u001b[0m\n\u001b[1;32m    373\u001b[0m     p2 \u001b[38;5;241m=\u001b[39m np\u001b[38;5;241m.\u001b[39matleast_2d(p2)\n\u001b[1;32m    374\u001b[0m     D \u001b[38;5;241m=\u001b[39m (p2[np\u001b[38;5;241m.\u001b[39mnewaxis, :, :] \u001b[38;5;241m-\u001b[39m p1[:, np\u001b[38;5;241m.\u001b[39mnewaxis, :])\u001b[38;5;241m.\u001b[39mreshape((\u001b[38;5;241m-\u001b[39m\u001b[38;5;241m1\u001b[39m, \u001b[38;5;241m3\u001b[39m))\n\u001b[0;32m--> 376\u001b[0m (D, ), (D_len, ) \u001b[38;5;241m=\u001b[39m \u001b[43mconditional_find_mic\u001b[49m\u001b[43m(\u001b[49m\u001b[43m[\u001b[49m\u001b[43mD\u001b[49m\u001b[43m]\u001b[49m\u001b[43m,\u001b[49m\u001b[43m \u001b[49m\u001b[43mcell\u001b[49m\u001b[38;5;241;43m=\u001b[39;49m\u001b[43mcell\u001b[49m\u001b[43m,\u001b[49m\u001b[43m \u001b[49m\u001b[43mpbc\u001b[49m\u001b[38;5;241;43m=\u001b[39;49m\u001b[43mpbc\u001b[49m\u001b[43m)\u001b[49m\n\u001b[1;32m    378\u001b[0m \u001b[38;5;28;01mif\u001b[39;00m p2 \u001b[38;5;129;01mis\u001b[39;00m \u001b[38;5;28;01mNone\u001b[39;00m:\n\u001b[1;32m    379\u001b[0m     Dout \u001b[38;5;241m=\u001b[39m np\u001b[38;5;241m.\u001b[39mzeros((np1, np1, \u001b[38;5;241m3\u001b[39m))\n",
      "File \u001b[0;32m/Library/Frameworks/Python.framework/Versions/3.11/lib/python3.11/site-packages/ase/geometry/geometry.py:237\u001b[0m, in \u001b[0;36mconditional_find_mic\u001b[0;34m(vectors, cell, pbc)\u001b[0m\n\u001b[1;32m    235\u001b[0m     \u001b[38;5;28;01mraise\u001b[39;00m \u001b[38;5;167;01mValueError\u001b[39;00m(\u001b[38;5;124m\"\u001b[39m\u001b[38;5;124mcell or pbc must be both set or both be None\u001b[39m\u001b[38;5;124m\"\u001b[39m)\n\u001b[1;32m    236\u001b[0m \u001b[38;5;28;01mif\u001b[39;00m cell \u001b[38;5;129;01mis\u001b[39;00m \u001b[38;5;129;01mnot\u001b[39;00m \u001b[38;5;28;01mNone\u001b[39;00m:\n\u001b[0;32m--> 237\u001b[0m     mics \u001b[38;5;241m=\u001b[39m \u001b[43m[\u001b[49m\u001b[43mfind_mic\u001b[49m\u001b[43m(\u001b[49m\u001b[43mv\u001b[49m\u001b[43m,\u001b[49m\u001b[43m \u001b[49m\u001b[43mcell\u001b[49m\u001b[43m,\u001b[49m\u001b[43m \u001b[49m\u001b[43mpbc\u001b[49m\u001b[43m)\u001b[49m\u001b[43m \u001b[49m\u001b[38;5;28;43;01mfor\u001b[39;49;00m\u001b[43m \u001b[49m\u001b[43mv\u001b[49m\u001b[43m \u001b[49m\u001b[38;5;129;43;01min\u001b[39;49;00m\u001b[43m \u001b[49m\u001b[43mvectors\u001b[49m\u001b[43m]\u001b[49m\n\u001b[1;32m    238\u001b[0m     vectors, vector_lengths \u001b[38;5;241m=\u001b[39m \u001b[38;5;28mzip\u001b[39m(\u001b[38;5;241m*\u001b[39mmics)\n\u001b[1;32m    239\u001b[0m \u001b[38;5;28;01melse\u001b[39;00m:\n",
      "File \u001b[0;32m/Library/Frameworks/Python.framework/Versions/3.11/lib/python3.11/site-packages/ase/geometry/geometry.py:237\u001b[0m, in \u001b[0;36m<listcomp>\u001b[0;34m(.0)\u001b[0m\n\u001b[1;32m    235\u001b[0m     \u001b[38;5;28;01mraise\u001b[39;00m \u001b[38;5;167;01mValueError\u001b[39;00m(\u001b[38;5;124m\"\u001b[39m\u001b[38;5;124mcell or pbc must be both set or both be None\u001b[39m\u001b[38;5;124m\"\u001b[39m)\n\u001b[1;32m    236\u001b[0m \u001b[38;5;28;01mif\u001b[39;00m cell \u001b[38;5;129;01mis\u001b[39;00m \u001b[38;5;129;01mnot\u001b[39;00m \u001b[38;5;28;01mNone\u001b[39;00m:\n\u001b[0;32m--> 237\u001b[0m     mics \u001b[38;5;241m=\u001b[39m [\u001b[43mfind_mic\u001b[49m\u001b[43m(\u001b[49m\u001b[43mv\u001b[49m\u001b[43m,\u001b[49m\u001b[43m \u001b[49m\u001b[43mcell\u001b[49m\u001b[43m,\u001b[49m\u001b[43m \u001b[49m\u001b[43mpbc\u001b[49m\u001b[43m)\u001b[49m \u001b[38;5;28;01mfor\u001b[39;00m v \u001b[38;5;129;01min\u001b[39;00m vectors]\n\u001b[1;32m    238\u001b[0m     vectors, vector_lengths \u001b[38;5;241m=\u001b[39m \u001b[38;5;28mzip\u001b[39m(\u001b[38;5;241m*\u001b[39mmics)\n\u001b[1;32m    239\u001b[0m \u001b[38;5;28;01melse\u001b[39;00m:\n",
      "File \u001b[0;32m/Library/Frameworks/Python.framework/Versions/3.11/lib/python3.11/site-packages/ase/geometry/geometry.py:218\u001b[0m, in \u001b[0;36mfind_mic\u001b[0;34m(v, cell, pbc)\u001b[0m\n\u001b[1;32m    215\u001b[0m             naive_find_mic_is_safe \u001b[38;5;241m=\u001b[39m \u001b[38;5;28;01mTrue\u001b[39;00m  \u001b[38;5;66;03m# hence skip Minkowski reduction\u001b[39;00m\n\u001b[1;32m    217\u001b[0m     \u001b[38;5;28;01mif\u001b[39;00m \u001b[38;5;129;01mnot\u001b[39;00m naive_find_mic_is_safe:\n\u001b[0;32m--> 218\u001b[0m         vmin, vlen \u001b[38;5;241m=\u001b[39m \u001b[43mgeneral_find_mic\u001b[49m\u001b[43m(\u001b[49m\u001b[43mv\u001b[49m\u001b[43m,\u001b[49m\u001b[43m \u001b[49m\u001b[43mcell\u001b[49m\u001b[43m,\u001b[49m\u001b[43m \u001b[49m\u001b[43mpbc\u001b[49m\u001b[38;5;241;43m=\u001b[39;49m\u001b[43mpbc\u001b[49m\u001b[43m)\u001b[49m\n\u001b[1;32m    219\u001b[0m \u001b[38;5;28;01melse\u001b[39;00m:\n\u001b[1;32m    220\u001b[0m     vmin \u001b[38;5;241m=\u001b[39m v\u001b[38;5;241m.\u001b[39mcopy()\n",
      "File \u001b[0;32m/Library/Frameworks/Python.framework/Versions/3.11/lib/python3.11/site-packages/ase/geometry/geometry.py:170\u001b[0m, in \u001b[0;36mgeneral_find_mic\u001b[0;34m(v, cell, pbc)\u001b[0m\n\u001b[1;32m    165\u001b[0m \u001b[38;5;28;01mdef\u001b[39;00m \u001b[38;5;21mgeneral_find_mic\u001b[39m(v, cell, pbc\u001b[38;5;241m=\u001b[39m\u001b[38;5;28;01mTrue\u001b[39;00m):\n\u001b[1;32m    166\u001b[0m \u001b[38;5;250m    \u001b[39m\u001b[38;5;124;03m\"\"\"Finds the minimum-image representation of vector(s) v. Using the\u001b[39;00m\n\u001b[1;32m    167\u001b[0m \u001b[38;5;124;03m    Minkowski reduction the algorithm is relatively slow but safe for any cell.\u001b[39;00m\n\u001b[1;32m    168\u001b[0m \u001b[38;5;124;03m    \"\"\"\u001b[39;00m\n\u001b[0;32m--> 170\u001b[0m     cell \u001b[38;5;241m=\u001b[39m \u001b[43mcomplete_cell\u001b[49m\u001b[43m(\u001b[49m\u001b[43mcell\u001b[49m\u001b[43m)\u001b[49m\n\u001b[1;32m    171\u001b[0m     rcell, _ \u001b[38;5;241m=\u001b[39m minkowski_reduce(cell, pbc\u001b[38;5;241m=\u001b[39mpbc)\n\u001b[1;32m    172\u001b[0m     positions \u001b[38;5;241m=\u001b[39m wrap_positions(v, rcell, pbc\u001b[38;5;241m=\u001b[39mpbc, eps\u001b[38;5;241m=\u001b[39m\u001b[38;5;241m0\u001b[39m)\n",
      "File \u001b[0;32m/Library/Frameworks/Python.framework/Versions/3.11/lib/python3.11/site-packages/ase/geometry/cell.py:155\u001b[0m, in \u001b[0;36mcomplete_cell\u001b[0;34m(cell)\u001b[0m\n\u001b[1;32m    149\u001b[0m \u001b[38;5;250m\u001b[39m\u001b[38;5;124;03m\"\"\"Calculate complete cell with missing lattice vectors.\u001b[39;00m\n\u001b[1;32m    150\u001b[0m \n\u001b[1;32m    151\u001b[0m \u001b[38;5;124;03mReturns a new 3x3 ndarray.\u001b[39;00m\n\u001b[1;32m    152\u001b[0m \u001b[38;5;124;03m\"\"\"\u001b[39;00m\n\u001b[1;32m    154\u001b[0m cell \u001b[38;5;241m=\u001b[39m np\u001b[38;5;241m.\u001b[39marray(cell, dtype\u001b[38;5;241m=\u001b[39m\u001b[38;5;28mfloat\u001b[39m)\n\u001b[0;32m--> 155\u001b[0m missing \u001b[38;5;241m=\u001b[39m \u001b[43mnp\u001b[49m\u001b[38;5;241;43m.\u001b[39;49m\u001b[43mnonzero\u001b[49m\u001b[43m(\u001b[49m\u001b[38;5;241;43m~\u001b[39;49m\u001b[43mcell\u001b[49m\u001b[38;5;241;43m.\u001b[39;49m\u001b[43many\u001b[49m\u001b[43m(\u001b[49m\u001b[43maxis\u001b[49m\u001b[38;5;241;43m=\u001b[39;49m\u001b[38;5;241;43m1\u001b[39;49m\u001b[43m)\u001b[49m\u001b[43m)\u001b[49m[\u001b[38;5;241m0\u001b[39m]\n\u001b[1;32m    157\u001b[0m \u001b[38;5;28;01mif\u001b[39;00m \u001b[38;5;28mlen\u001b[39m(missing) \u001b[38;5;241m==\u001b[39m \u001b[38;5;241m3\u001b[39m:\n\u001b[1;32m    158\u001b[0m     cell\u001b[38;5;241m.\u001b[39mflat[::\u001b[38;5;241m4\u001b[39m] \u001b[38;5;241m=\u001b[39m \u001b[38;5;241m1.0\u001b[39m\n",
      "File \u001b[0;32m/Library/Frameworks/Python.framework/Versions/3.11/lib/python3.11/site-packages/numpy/core/fromnumeric.py:1973\u001b[0m, in \u001b[0;36mnonzero\u001b[0;34m(a)\u001b[0m\n\u001b[1;32m   1881\u001b[0m \u001b[38;5;129m@array_function_dispatch\u001b[39m(_nonzero_dispatcher)\n\u001b[1;32m   1882\u001b[0m \u001b[38;5;28;01mdef\u001b[39;00m \u001b[38;5;21mnonzero\u001b[39m(a):\n\u001b[1;32m   1883\u001b[0m \u001b[38;5;250m    \u001b[39m\u001b[38;5;124;03m\"\"\"\u001b[39;00m\n\u001b[1;32m   1884\u001b[0m \u001b[38;5;124;03m    Return the indices of the elements that are non-zero.\u001b[39;00m\n\u001b[1;32m   1885\u001b[0m \n\u001b[0;32m   (...)\u001b[0m\n\u001b[1;32m   1971\u001b[0m \n\u001b[1;32m   1972\u001b[0m \u001b[38;5;124;03m    \"\"\"\u001b[39;00m\n\u001b[0;32m-> 1973\u001b[0m     \u001b[38;5;28;01mreturn\u001b[39;00m \u001b[43m_wrapfunc\u001b[49m\u001b[43m(\u001b[49m\u001b[43ma\u001b[49m\u001b[43m,\u001b[49m\u001b[43m \u001b[49m\u001b[38;5;124;43m'\u001b[39;49m\u001b[38;5;124;43mnonzero\u001b[39;49m\u001b[38;5;124;43m'\u001b[39;49m\u001b[43m)\u001b[49m\n",
      "File \u001b[0;32m/Library/Frameworks/Python.framework/Versions/3.11/lib/python3.11/site-packages/numpy/core/fromnumeric.py:59\u001b[0m, in \u001b[0;36m_wrapfunc\u001b[0;34m(obj, method, *args, **kwds)\u001b[0m\n\u001b[1;32m     56\u001b[0m     \u001b[38;5;28;01mreturn\u001b[39;00m _wrapit(obj, method, \u001b[38;5;241m*\u001b[39margs, \u001b[38;5;241m*\u001b[39m\u001b[38;5;241m*\u001b[39mkwds)\n\u001b[1;32m     58\u001b[0m \u001b[38;5;28;01mtry\u001b[39;00m:\n\u001b[0;32m---> 59\u001b[0m     \u001b[38;5;28;01mreturn\u001b[39;00m \u001b[43mbound\u001b[49m\u001b[43m(\u001b[49m\u001b[38;5;241;43m*\u001b[39;49m\u001b[43margs\u001b[49m\u001b[43m,\u001b[49m\u001b[43m \u001b[49m\u001b[38;5;241;43m*\u001b[39;49m\u001b[38;5;241;43m*\u001b[39;49m\u001b[43mkwds\u001b[49m\u001b[43m)\u001b[49m\n\u001b[1;32m     60\u001b[0m \u001b[38;5;28;01mexcept\u001b[39;00m \u001b[38;5;167;01mTypeError\u001b[39;00m:\n\u001b[1;32m     61\u001b[0m     \u001b[38;5;66;03m# A TypeError occurs if the object does have such a method in its\u001b[39;00m\n\u001b[1;32m     62\u001b[0m     \u001b[38;5;66;03m# class, but its signature is not identical to that of NumPy's. This\u001b[39;00m\n\u001b[0;32m   (...)\u001b[0m\n\u001b[1;32m     66\u001b[0m     \u001b[38;5;66;03m# Call _wrapit from within the except clause to ensure a potential\u001b[39;00m\n\u001b[1;32m     67\u001b[0m     \u001b[38;5;66;03m# exception has a traceback chain.\u001b[39;00m\n\u001b[1;32m     68\u001b[0m     \u001b[38;5;28;01mreturn\u001b[39;00m _wrapit(obj, method, \u001b[38;5;241m*\u001b[39margs, \u001b[38;5;241m*\u001b[39m\u001b[38;5;241m*\u001b[39mkwds)\n",
      "\u001b[0;31mKeyboardInterrupt\u001b[0m: "
     ]
    }
   ],
   "source": [
    "i = 0\n",
    "while True:\n",
    "    try:\n",
    "        # Read POSCAR file\n",
    "        prim = read_vasp(file=f'{setup_variables[\"root_path\"]}/POSCAR')\n",
    "        atoms_ideal = prim.repeat(cell_size)\n",
    "\n",
    "        # Generate the structures\n",
    "        structures = generate_mc_rattled_structures(atoms_ideal, n_structures, rattle_std, minimum_distance,\n",
    "                                                   seed=i)\n",
    "        \n",
    "        print(\"No exception occurred. Exiting loop.\")\n",
    "        break  # Exit the loop if no exception occurred\n",
    "    except Exception as e:\n",
    "        print(f\"Exception {i} occurred: {e}\")\n",
    "        i += 1\n",
    "        rattle_std *= 0.9\n",
    "        # Optionally, you can add a delay before retrying\n",
    "        # time.sleep(1)"
   ]
  },
  {
   "cell_type": "code",
   "execution_count": 5,
   "id": "056a3432",
   "metadata": {},
   "outputs": [
    {
     "data": {
      "text/plain": [
       "0.0029543127065508345"
      ]
     },
     "execution_count": 5,
     "metadata": {},
     "output_type": "execute_result"
    }
   ],
   "source": [
    "rattle_std"
   ]
  },
  {
   "cell_type": "code",
   "execution_count": null,
   "id": "c90d1ea9",
   "metadata": {},
   "outputs": [],
   "source": [
    "# Read POSCAR file\n",
    "prim = read_vasp(file=f'{setup_variables[\"root_path\"]}/POSCAR')\n",
    "atoms_ideal = prim.repeat(cell_size)\n",
    "\n",
    "# Generate the structures\n",
    "structures = generate_mc_rattled_structures(atoms_ideal, n_structures, rattle_std, minimum_distance,\n",
    "                                           seed=1234)"
   ]
  },
  {
   "cell_type": "code",
   "execution_count": null,
   "id": "c10cbe43",
   "metadata": {},
   "outputs": [],
   "source": [
    "for idx in range(n_structures):\n",
    "    # Sort the chemical species\n",
    "    structure = sort(structures[idx])\n",
    "    \n",
    "    # Create disp folder\n",
    "    idx_path = f'{setup_variables[\"root_path\"]}/disp-{idx}'\n",
    "    os.mkdir(idx_path)\n",
    "    \n",
    "    # Write to POSCAR\n",
    "    write(f'{idx_path}/POSCAR', structure, format='vasp')"
   ]
  }
 ],
 "metadata": {
  "kernelspec": {
   "display_name": "Python 3 (ipykernel)",
   "language": "python",
   "name": "python3"
  },
  "language_info": {
   "codemirror_mode": {
    "name": "ipython",
    "version": 3
   },
   "file_extension": ".py",
   "mimetype": "text/x-python",
   "name": "python",
   "nbconvert_exporter": "python",
   "pygments_lexer": "ipython3",
   "version": "3.11.1"
  }
 },
 "nbformat": 4,
 "nbformat_minor": 5
}
