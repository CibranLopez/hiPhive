{
 "cells": [
  {
   "cell_type": "code",
   "execution_count": 1,
   "id": "23cb0d91-e113-4707-a01f-172427e4e1d4",
   "metadata": {},
   "outputs": [],
   "source": [
    "import json\n",
    "import os\n",
    "import ase.io\n",
    "\n",
    "from ase.io                       import write\n",
    "from ase.io.vasp                  import read_vasp\n",
    "from ase.build                    import bulk, sort\n",
    "from ase.calculators.emt          import EMT\n",
    "from hiphive.structure_generation import generate_mc_rattled_structures"
   ]
  },
  {
   "cell_type": "markdown",
   "id": "126feb2b-7c14-47e0-9088-2d90928a0242",
   "metadata": {},
   "source": [
    "Read structures containing displacements and forces"
   ]
  },
  {
   "cell_type": "code",
   "execution_count": 2,
   "id": "dbafdfb3",
   "metadata": {},
   "outputs": [],
   "source": [
    "root_path = f'data/CrN-riccardo/PM/SC_2x2x2_Vol_76.69'\n",
    "#root_path = f'data/CrN-riccardo/PM/SC_2x2x2_Vol_76.31'\n",
    "#root_path = f'data/CrN-riccardo/PM/SC_2x2x2_Vol_75.93'\n",
    "#root_path = f'data/CrN-riccardo/PM/SC_2x2x2_Vol_75.56'\n",
    "\n",
    "# Parameters\n",
    "n_structures     = 500\n",
    "rattle_std       = 0.03\n",
    "minimum_distance = 1.5\n",
    "cell_size        = [2, 2, 2]\n",
    "\n",
    "# Create and save as a dictionary\n",
    "setup_variables = {\n",
    "    'root_path':        root_path,\n",
    "    'n_structures':     n_structures,\n",
    "    'rattle_std':       rattle_std,\n",
    "    'minimum_distance': minimum_distance,\n",
    "    'cell_size':        cell_size\n",
    "}\n",
    "\n",
    "# Write the dictionary to the file in JSON format\n",
    "with open(f'{root_path}/structure_generation_variables.json', 'w') as json_file:\n",
    "    json.dump(setup_variables, json_file)"
   ]
  },
  {
   "cell_type": "code",
   "execution_count": 3,
   "id": "00f969f0",
   "metadata": {},
   "outputs": [],
   "source": [
    "# Read POSCAR file\n",
    "prim = read_vasp(file=f'{setup_variables[\"root_path\"]}/POSCAR')\n",
    "atoms_ideal = prim.repeat(cell_size)\n",
    "\n",
    "# Generate the structures\n",
    "structures = generate_mc_rattled_structures(atoms_ideal, n_structures, rattle_std, minimum_distance)\n",
    "\n",
    "# Save the structures for later use in force determination\n",
    "#write(f'{setup_variables[\"root_path\"]}/prim.extxyz',                 prim)  # Primitive cell\n",
    "#write(f'{setup_variables[\"root_path\"]}/supercell_ideal_prev.extxyz', atoms_ideal)  # Ideal supercell\n",
    "#write(f'{setup_variables[\"root_path\"]}/supercells_rattled.extxyz',   structures)"
   ]
  },
  {
   "cell_type": "code",
   "execution_count": 4,
   "id": "c10cbe43",
   "metadata": {},
   "outputs": [],
   "source": [
    "for idx in range(n_structures):\n",
    "    # Sort the chemical species\n",
    "    structure = sort(structures[idx])\n",
    "    \n",
    "    # Create disp folder\n",
    "    idx_path = f'{setup_variables[\"root_path\"]}/disp-{idx}'\n",
    "    os.mkdir(idx_path)\n",
    "    \n",
    "    # Write to POSCAR\n",
    "    write(f'{idx_path}/POSCAR', structure, format='vasp')"
   ]
  }
 ],
 "metadata": {
  "kernelspec": {
   "display_name": "Python 3 (ipykernel)",
   "language": "python",
   "name": "python3"
  },
  "language_info": {
   "codemirror_mode": {
    "name": "ipython",
    "version": 3
   },
   "file_extension": ".py",
   "mimetype": "text/x-python",
   "name": "python",
   "nbconvert_exporter": "python",
   "pygments_lexer": "ipython3",
   "version": "3.11.1"
  }
 },
 "nbformat": 4,
 "nbformat_minor": 5
}
