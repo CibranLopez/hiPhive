{
 "cells": [
  {
   "cell_type": "markdown",
   "id": "3f8983c5",
   "metadata": {},
   "source": [
    "# Learning curves"
   ]
  },
  {
   "cell_type": "markdown",
   "id": "d4942681",
   "metadata": {},
   "source": [
    "Construct learning curves and plot them."
   ]
  },
  {
   "cell_type": "code",
   "execution_count": null,
   "id": "013db768",
   "metadata": {},
   "outputs": [],
   "source": [
    "import json\n",
    "import numpy             as np\n",
    "import pandas            as pd\n",
    "import matplotlib.pyplot as plt\n",
    "\n",
    "from collections  import defaultdict\n",
    "from hiphive      import StructureContainer\n",
    "from trainstation import CrossValidationEstimator"
   ]
  },
  {
   "cell_type": "code",
   "execution_count": null,
   "id": "8861fdd3",
   "metadata": {},
   "outputs": [],
   "source": [
    "# Read the file in JSON format to a dictionary\n",
    "with open(f'setup_variables.json', 'r') as json_file:\n",
    "    setup_variables = json.load(json_file)"
   ]
  },
  {
   "cell_type": "code",
   "execution_count": null,
   "id": "61178fc1",
   "metadata": {},
   "outputs": [],
   "source": [
    "linewidth = 2.0\n",
    "markersize = 6\n",
    "fontsize = 14\n",
    "alpha = 0.5\n",
    "\n",
    "columns = ['train_size', 'rmse_ave', 'rmse_std']\n",
    "\n",
    "# parameters\n",
    "fit_methods = ['lasso', 'ardr', 'least-squares']\n",
    "train_sizes = np.linspace(100, 600, 15).astype(int)\n",
    "n_splits = 5\n",
    "\n",
    "# fit kwargs\n",
    "fit_kwargs = defaultdict(dict)\n",
    "fit_kwargs['lasso'] = dict(max_iter=5000)"
   ]
  },
  {
   "cell_type": "markdown",
   "id": "45cb51e2",
   "metadata": {},
   "source": [
    "### Run learning curves"
   ]
  },
  {
   "cell_type": "code",
   "execution_count": null,
   "id": "d52800aa",
   "metadata": {},
   "outputs": [],
   "source": [
    "# Read sc\n",
    "sc = StructureContainer.read(setup_variables['path_to_structure_container'])\n",
    "n_rows, n_cols = sc.data_shape"
   ]
  },
  {
   "cell_type": "code",
   "execution_count": null,
   "id": "ff3ef0ce",
   "metadata": {},
   "outputs": [],
   "source": [
    "learning_curves = dict()\n",
    "for fit_method in fit_methods:\n",
    "    records = []\n",
    "    for train_size in train_sizes:\n",
    "        train_fraction = train_size / n_rows\n",
    "        test_fraction = 1.0 - train_fraction - 1e-10\n",
    "        cve = CrossValidationEstimator(sc.get_fit_data(),\n",
    "                                       fit_method=fit_method,\n",
    "                                       validation_method='shuffle-split',\n",
    "                                       train_size=train_fraction,\n",
    "                                       test_size=test_fraction,\n",
    "                                       n_splits=n_splits,\n",
    "                                       **fit_kwargs[fit_method])\n",
    "        cve.validate()\n",
    "        row = dict(train_size=train_size,\n",
    "                   rmse_ave=cve.rmse_validation,\n",
    "                   rmse_std=cve.rmse_validation_splits.std())\n",
    "        records.append(row)\n",
    "    learning_curves[fit_method] = pd.DataFrame(records)"
   ]
  },
  {
   "cell_type": "markdown",
   "id": "4a6e7931",
   "metadata": {},
   "source": [
    "### Plot results"
   ]
  },
  {
   "cell_type": "code",
   "execution_count": null,
   "id": "fcd0e387",
   "metadata": {},
   "outputs": [],
   "source": [
    "xlim = [min(train_sizes)-20, max(train_sizes)+20]\n",
    "ylim = [0.014, 1.0]\n",
    "colors = {fit_method: color for fit_method, color in zip(\n",
    "    fit_methods, plt.rcParams['axes.prop_cycle'].by_key()['color'])}\n",
    "\n",
    "fig = plt.figure(figsize=(8, 5))\n",
    "ax = plt.gca()\n",
    "\n",
    "for fit_method, df in learning_curves.items():\n",
    "    col = colors[fit_method]\n",
    "    ax.semilogy(df.train_size, df.rmse_ave, '-o', color=col, lw=linewidth, markersize=markersize,\n",
    "                label='{}'.format(fit_method))\n",
    "    ax.fill_between(df.train_size, df.rmse_ave - df.rmse_std,\n",
    "                    df.rmse_ave + df.rmse_std, color=col, alpha=alpha)\n",
    "\n",
    "ax.set_xlim(xlim)\n",
    "ax.set_ylim(ylim)\n",
    "ax.set_xlabel('Training size (# force components)', fontsize=fontsize)\n",
    "ax.set_ylabel('RMSE (eV/Å)', fontsize=fontsize)\n",
    "ax.tick_params(labelsize=fs)\n",
    "ax.legend(fontsize=fs)\n",
    "\n",
    "ax.axvspan(0.0, n_cols, alpha=0.1, color='k')\n",
    "ax.text(0.03, 0.93, 'under-determined', transform=ax.transAxes, fontsize=fontsize)\n",
    "ax.text(0.35, 0.93, 'over-determined', transform=ax.transAxes, fontsize=fontsize)\n",
    "\n",
    "fig.tight_layout()\n",
    "plt.savefig('learning_curves.eps', dpi=50, bbox_inches='tight')"
   ]
  }
 ],
 "metadata": {
  "kernelspec": {
   "display_name": "Python 3 (ipykernel)",
   "language": "python",
   "name": "python3"
  },
  "language_info": {
   "codemirror_mode": {
    "name": "ipython",
    "version": 3
   },
   "file_extension": ".py",
   "mimetype": "text/x-python",
   "name": "python",
   "nbconvert_exporter": "python",
   "pygments_lexer": "ipython3",
   "version": "3.10.12"
  }
 },
 "nbformat": 4,
 "nbformat_minor": 5
}
