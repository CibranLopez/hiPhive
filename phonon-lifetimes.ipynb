{
 "cells": [
  {
   "cell_type": "markdown",
   "id": "f6b812eb",
   "metadata": {},
   "source": [
    "# Phonon lifetimes"
   ]
  },
  {
   "cell_type": "markdown",
   "id": "ed87240c",
   "metadata": {},
   "source": [
    "Calculate third order properties using a ForceConstantPotential and feeding\n",
    "the resulting force constants to phono3py."
   ]
  },
  {
   "cell_type": "code",
   "execution_count": null,
   "id": "50a26085",
   "metadata": {},
   "outputs": [],
   "source": [
    "import json\n",
    "import h5py\n",
    "import subprocess\n",
    "import numpy             as np\n",
    "import matplotlib.pyplot as plt\n",
    "\n",
    "from ase                     import Atoms\n",
    "from ase.io                  import write\n",
    "from ase.build               import bulk\n",
    "from hiphive                 import ForceConstantPotential\n",
    "from phonopy                 import Phonopy\n",
    "from phonopy.structure.atoms import PhonopyAtoms"
   ]
  },
  {
   "cell_type": "code",
   "execution_count": null,
   "id": "9935cc71",
   "metadata": {},
   "outputs": [],
   "source": [
    "# Read the file in JSON format to a dictionary\n",
    "with open(f'setup_variables.json', 'r') as json_file:\n",
    "    setup_variables = json.load(json_file)"
   ]
  },
  {
   "cell_type": "code",
   "execution_count": null,
   "id": "de1bd45c",
   "metadata": {},
   "outputs": [],
   "source": [
    "# Setup\n",
    "dim        = '5 5 5'\n",
    "mesh       = '14 14 14'\n",
    "fontsize   = 14\n",
    "markersize = 4\n",
    "\n",
    "temperatures = [1200]\n",
    "temperatures_list = ' '.join(str(T) for T in temperatures)"
   ]
  },
  {
   "cell_type": "code",
   "execution_count": null,
   "id": "523d9695",
   "metadata": {},
   "outputs": [],
   "source": [
    "SOLVE HOW TO GET PHONOPY"
   ]
  },
  {
   "cell_type": "code",
   "execution_count": null,
   "id": "bb3900ee",
   "metadata": {},
   "outputs": [],
   "source": [
    "# Get phono3py supercell\n",
    "prim = bulk('Ni')\n",
    "atoms_phonopy = PhonopyAtoms(symbols=prim.get_chemical_symbols(),\n",
    "                             scaled_positions=prim.get_scaled_positions(),\n",
    "                             cell=prim.cell)\n",
    "phonopy = Phonopy(atoms_phonopy, supercell_matrix=dim*np.eye(3),\n",
    "                  primitive_matrix=None)"
   ]
  },
  {
   "cell_type": "markdown",
   "id": "b3564a18",
   "metadata": {},
   "source": [
    "### Get force constants"
   ]
  },
  {
   "cell_type": "code",
   "execution_count": null,
   "id": "be3187f5",
   "metadata": {},
   "outputs": [],
   "source": [
    "# Load force constant potential\n",
    "fcp = ForceConstantPotential.read(setup_variables['path_to_fcp'])\n",
    "\n",
    "# Load supercell\n",
    "super_cell = read_vasp(setup_variables['path_to_super_cell'])\n",
    "\n",
    "# Get force constants for supercell\n",
    "fcs = fcp.get_force_constants(super_cell)\n",
    "print(fcs)\n",
    "\n",
    "# Write force constants and POSCAR\n",
    "fcs.write_to_phonopy('fc2.hdf5')\n",
    "fcs.write_to_phono3py('fc3.hdf5')"
   ]
  },
  {
   "cell_type": "markdown",
   "id": "d470e693",
   "metadata": {},
   "source": [
    "### Call phono3py"
   ]
  },
  {
   "cell_type": "code",
   "execution_count": null,
   "id": "097cfaa7",
   "metadata": {},
   "outputs": [],
   "source": [
    "# Run phono3py\n",
    "phono3py_cmd = f'phono3py --dim=\"{dim}\" --fc2 --fc3 --br --mesh=\"{mesh}\" --ts=\"{temperatures_list}\"'\n",
    "subprocess.call(phono3py_cmd, shell=True)\n",
    "\n",
    "# Collect phono3py data\n",
    "with h5py.File(f'kappa-m{mesh}.hdf5', 'r') as hf:\n",
    "    temperatures = hf['temperature'][:]\n",
    "    frequency = hf['frequency'][:]\n",
    "    gamma = hf['gamma'][:]"
   ]
  },
  {
   "cell_type": "markdown",
   "id": "4b7ad435",
   "metadata": {},
   "source": [
    "### Plot results"
   ]
  },
  {
   "cell_type": "code",
   "execution_count": null,
   "id": "d4247df9",
   "metadata": {},
   "outputs": [],
   "source": [
    "plt.figure()\n",
    "plt.plot(frequency.flatten(), gamma[0].flatten(), 'o', markersize=markersize)\n",
    "\n",
    "plt.xlabel('Frequency (THz)', fontsize=fontsize)\n",
    "plt.ylabel('Gamma (THz)', fontsize=fontsize)\n",
    "plt.xlim(left=0)\n",
    "plt.ylim(bottom=0)\n",
    "\n",
    "plt.title(f'T = {int(temperatures[0]):d}K')\n",
    "plt.gca().tick_params(labelsize=fontsize)\n",
    "plt.savefig('frequency_gamma.eps', dpi=50, bbox_inches='tight')"
   ]
  }
 ],
 "metadata": {
  "kernelspec": {
   "display_name": "Python 3 (ipykernel)",
   "language": "python",
   "name": "python3"
  },
  "language_info": {
   "codemirror_mode": {
    "name": "ipython",
    "version": 3
   },
   "file_extension": ".py",
   "mimetype": "text/x-python",
   "name": "python",
   "nbconvert_exporter": "python",
   "pygments_lexer": "ipython3",
   "version": "3.10.12"
  }
 },
 "nbformat": 4,
 "nbformat_minor": 5
}
