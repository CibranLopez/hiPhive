{
 "cells": [
  {
   "cell_type": "markdown",
   "id": "22b68085",
   "metadata": {},
   "source": [
    "# Harmonic analysis"
   ]
  },
  {
   "cell_type": "markdown",
   "id": "e16142e6",
   "metadata": {},
   "source": [
    "Calculate thermal properties within the harmonic approximation using a\n",
    "hiPhive force constant potential in combination with phonopy."
   ]
  },
  {
   "cell_type": "code",
   "execution_count": null,
   "id": "9963ef01",
   "metadata": {},
   "outputs": [],
   "source": [
    "import json\n",
    "import numpy             as np\n",
    "import matplotlib.pyplot as plt\n",
    "\n",
    "from ase                     import Atoms\n",
    "from ase.build               import bulk\n",
    "from hiphive                 import ForceConstantPotential\n",
    "from phonopy                 import Phonopy\n",
    "from phonopy.structure.atoms import PhonopyAtoms"
   ]
  },
  {
   "cell_type": "code",
   "execution_count": null,
   "id": "be820991",
   "metadata": {},
   "outputs": [],
   "source": [
    "# Read the file in JSON format to a dictionary\n",
    "with open(f'setup_variables.json', 'r') as json_file:\n",
    "    setup_variables = json.load(json_file)"
   ]
  },
  {
   "cell_type": "code",
   "execution_count": null,
   "id": "2fe6f826",
   "metadata": {},
   "outputs": [],
   "source": [
    "# Setup\n",
    "dim = 5  # dimension in phonopy calculation\n",
    "Nq = 51  # number of q-points along each segment of the path through the BZ\n",
    "mesh = [32, 32, 32]  # q-point mesh for MSD calculation\n",
    "temperatures = [300, 600, 900, 1200]  # temperatures for evaluating MSD"
   ]
  },
  {
   "cell_type": "code",
   "execution_count": null,
   "id": "5bceeef0",
   "metadata": {},
   "outputs": [],
   "source": [
    "SOLVE HOW TO GET PHONOPY"
   ]
  },
  {
   "cell_type": "code",
   "execution_count": null,
   "id": "cbd4fab2",
   "metadata": {},
   "outputs": [],
   "source": [
    "# Set up phonopy\n",
    "prim = bulk('Ni')\n",
    "atoms_phonopy = PhonopyAtoms(symbols=prim.get_chemical_symbols(),\n",
    "                             scaled_positions=prim.get_scaled_positions(),\n",
    "                             cell=prim.cell)\n",
    "phonopy = Phonopy(atoms_phonopy, supercell_matrix=dim*np.eye(3),\n",
    "                  primitive_matrix=None)"
   ]
  },
  {
   "cell_type": "markdown",
   "id": "e3f23fbc",
   "metadata": {},
   "source": [
    "### Get force constants"
   ]
  },
  {
   "cell_type": "code",
   "execution_count": null,
   "id": "1bfb8aa7",
   "metadata": {},
   "outputs": [],
   "source": [
    "# Load force constant potential\n",
    "fcp = ForceConstantPotential.read(path_to_fcp)\n",
    "\n",
    "# Load supercell\n",
    "super_cell = read_vasp(path_to_super_cell)\n",
    "\n",
    "# Get force constants for supercell\n",
    "fcs = fcp.get_force_constants(super_cell)\n",
    "\n",
    "# Write force constants and POSCAR\n",
    "fcs.write_to_phonopy('fc2.hdf5')\n",
    "fcs.write_to_phono3py('fc3.hdf5')"
   ]
  },
  {
   "cell_type": "code",
   "execution_count": null,
   "id": "0ac792dc",
   "metadata": {},
   "outputs": [],
   "source": [
    "# Load force constant potential\n",
    "fcp = ForceConstantPotential.read(setup_variables['path_to_fcp'])\n",
    "\n",
    "# Load supercell\n",
    "super_cell = read_vasp(setup_variables['path_to_super_cell'])\n",
    "\n",
    "# Get force constants for supercell\n",
    "fcs = fcp.get_force_constants(super_cell)\n",
    "print(fcs)\n",
    "\n",
    "# Access specific parts of the force constant matrix\n",
    "fcs.print_force_constant((0, 1))\n",
    "fcs.print_force_constant((10, 12))"
   ]
  },
  {
   "cell_type": "markdown",
   "id": "14b349a8",
   "metadata": {},
   "source": [
    "### Get mean squared displacements"
   ]
  },
  {
   "cell_type": "code",
   "execution_count": null,
   "id": "f8141730",
   "metadata": {},
   "outputs": [],
   "source": []
  },
  {
   "cell_type": "code",
   "execution_count": null,
   "id": "143554b2",
   "metadata": {},
   "outputs": [],
   "source": [
    "phonopy.set_force_constants(fcs.get_fc_array(order=2))\n",
    "phonopy.set_mesh(mesh, is_eigenvectors=True, is_mesh_symmetry=False)\n",
    "phonopy.set_thermal_displacements(temperatures=temperatures)\n",
    "_, msds = phonopy.get_thermal_displacements()\n",
    "msds = np.sum(msds, axis=1)  # sum up the MSD over x,y,z\n",
    "for temperature, msd in zip(temperatures, msds):\n",
    "    print('T = {:4d} K    MSD = {:.5f} A**2'.format(temperature, msd))\n",
    "\n",
    "# FCC q-point paths\n",
    "\n",
    "def get_band(q_start, q_stop, N):\n",
    "    \"\"\" Return path between q_start and q_stop \"\"\"\n",
    "    return np.array([q_start + (q_stop-q_start)*i/(N-1) for i in range(N)])\n",
    "\n",
    "\n",
    "G2X = get_band(np.array([0, 0, 0]), np.array([0.5, 0.5, 0]), Nq)\n",
    "X2K2G = get_band(np.array([0.5, 0.5, 1.0]), np.array([0, 0, 0]), Nq)\n",
    "G2L = get_band(np.array([0, 0, 0]), np.array([0.5, 0.5, 0.5]), Nq)\n",
    "bands = [G2X, X2K2G, G2L]"
   ]
  },
  {
   "cell_type": "markdown",
   "id": "49aaa3a5",
   "metadata": {},
   "source": [
    "### Get phonon dispersion"
   ]
  },
  {
   "cell_type": "code",
   "execution_count": null,
   "id": "c1589ad0",
   "metadata": {},
   "outputs": [],
   "source": [
    "phonopy.set_band_structure(bands)\n",
    "qvecs, qnorms, freqs, _ = phonopy.get_band_structure()"
   ]
  },
  {
   "cell_type": "markdown",
   "id": "31e4aaef",
   "metadata": {},
   "source": [
    "### Plot results"
   ]
  },
  {
   "cell_type": "code",
   "execution_count": null,
   "id": "78be1e5a",
   "metadata": {},
   "outputs": [],
   "source": [
    "fig = plt.figure()\n",
    "\n",
    "kpts = [0.0, qnorms[0][-1], qnorms[1][-1], qnorms[2][-1]]\n",
    "kpts_labels = ['$\\\\Gamma$', 'X', '$\\\\Gamma$', 'L']\n",
    "\n",
    "plt.axvline(x=kpts[1], color='k', linewidth=0.9)\n",
    "plt.axvline(x=kpts[2], color='k', linewidth=0.9)\n",
    "\n",
    "for q, freq, in zip(qnorms, freqs):\n",
    "    plt.plot(q, freq, color='b', linewidth=2.0)\n",
    "\n",
    "plt.xlabel('Wave vector $\\\\vec{q}$', fontsize=14.0)\n",
    "plt.ylabel('Frequency $\\\\omega$ (THz)', fontsize=14.0)\n",
    "plt.xticks(kpts, kpts_labels, fontsize=14.0)\n",
    "plt.xlim([0.0, qnorms[-1][-1]])\n",
    "plt.ylim([0.0, 12.0])\n",
    "\n",
    "plt.tight_layout()\n",
    "plt.savefig('phonon_dispersion.eps', dpi=50, bbox_inches='tight')"
   ]
  },
  {
   "cell_type": "code",
   "execution_count": null,
   "id": "89ad52cd",
   "metadata": {},
   "outputs": [],
   "source": []
  },
  {
   "cell_type": "code",
   "execution_count": null,
   "id": "2942a421",
   "metadata": {},
   "outputs": [],
   "source": []
  }
 ],
 "metadata": {
  "kernelspec": {
   "display_name": "Python 3 (ipykernel)",
   "language": "python",
   "name": "python3"
  },
  "language_info": {
   "codemirror_mode": {
    "name": "ipython",
    "version": 3
   },
   "file_extension": ".py",
   "mimetype": "text/x-python",
   "name": "python",
   "nbconvert_exporter": "python",
   "pygments_lexer": "ipython3",
   "version": "3.10.12"
  }
 },
 "nbformat": 4,
 "nbformat_minor": 5
}
