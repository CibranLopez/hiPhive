{
 "cells": [
  {
   "cell_type": "code",
   "execution_count": 1,
   "id": "23cb0d91-e113-4707-a01f-172427e4e1d4",
   "metadata": {},
   "outputs": [],
   "source": [
    "import json\n",
    "import os\n",
    "import ase.io\n",
    "\n",
    "from ase.io               import read,write\n",
    "from ase.io               import vasp\n",
    "from hiphive              import ClusterSpace, StructureContainer, ForceConstantPotential\n",
    "from hiphive.utilities    import prepare_structures,get_displacements\n",
    "from trainstation         import Optimizer\n",
    "from ase.calculators.vasp import Vasp\n",
    "from ase.io.vasp          import read_vasp,write_vasp"
   ]
  },
  {
   "cell_type": "markdown",
   "id": "126feb2b-7c14-47e0-9088-2d90928a0242",
   "metadata": {},
   "source": [
    "Read structures containing displacements and forces"
   ]
  },
  {
   "cell_type": "code",
   "execution_count": 36,
   "id": "73e4606f",
   "metadata": {},
   "outputs": [],
   "source": [
    "volumes   = ['75.18', '75.56', '75.93', '76.31', '76.69']\n",
    "root_path = f'data/CrN-riccardo/SC_2x2x2_Vol_{volumes[0]}'\n",
    "\n",
    "# Create and save as a dictionary\n",
    "setup_variables = {\n",
    "    'root_path':                   root_path,\n",
    "    'path_to_relaxations':         f'{root_path}/relaxations',\n",
    "    'path_to_primtive_cell':       f'{root_path}/POSCAR_unit',\n",
    "    'path_to_super_cell':          f'{root_path}/POSCAR_supercell',\n",
    "    'path_to_cluster_space':       f'{root_path}/cluster_space.cs',\n",
    "    'path_to_structure_container': f'{root_path}/structure_container.sc',\n",
    "    'path_to_fcp':                 f'{root_path}/material.fcp'\n",
    "}\n",
    "\n",
    "# Write the dictionary to the file in JSON format\n",
    "with open(f'setup_variables.json', 'w') as json_file:\n",
    "    json.dump(setup_variables, json_file)"
   ]
  },
  {
   "cell_type": "code",
   "execution_count": 22,
   "id": "1ed484a6-2908-4fec-8ebb-502cabac4d43",
   "metadata": {},
   "outputs": [],
   "source": [
    "# Cutoffs for pairs, triplets and quadruplets (in angstrom) \n",
    "cutoffs = [4.0, 4.0, 3.0]"
   ]
  },
  {
   "cell_type": "code",
   "execution_count": 10,
   "id": "3745a06c-f7b4-4659-8a02-843facb562d5",
   "metadata": {
    "scrolled": true
   },
   "outputs": [
    {
     "name": "stdout",
     "output_type": "stream",
     "text": [
      "disp-0445\n",
      "disp-0074\n",
      "disp-0532\n",
      "disp-0971\n",
      "disp-0831\n",
      "disp-0775\n",
      "disp-0866\n",
      "disp-0608\n",
      "disp-0012\n",
      "disp-0351\n",
      "disp-0443\n",
      "disp-0896\n",
      "disp-0320\n",
      "disp-0141\n",
      "disp-0244\n",
      "disp-0693\n",
      "disp-0851\n",
      "disp-0158\n",
      "disp-0460\n",
      "disp-0157\n",
      "disp-0716\n",
      "disp-1000\n",
      "disp-0765\n",
      "disp-0232\n",
      "disp-0910\n",
      "disp-0534\n",
      "disp-0478\n",
      "disp-0130\n",
      "disp-0304\n",
      "disp-0741\n",
      "disp-0261\n",
      "disp-0808\n",
      "disp-0204\n",
      "disp-0725\n",
      "disp-0615\n",
      "disp-0315\n",
      "disp-0087\n",
      "disp-0259\n",
      "disp-0753\n",
      "disp-0893\n",
      "disp-0414\n",
      "disp-0609\n",
      "disp-0156\n",
      "disp-0274\n",
      "disp-0480\n",
      "disp-0273\n",
      "disp-0644\n",
      "disp-0448\n",
      "disp-0567\n",
      "disp-0148\n",
      "disp-0241\n",
      "disp-0245\n",
      "disp-0471\n",
      "disp-0630\n",
      "disp-0807\n",
      "disp-0444\n",
      "disp-0427\n",
      "disp-0839\n",
      "disp-0612\n",
      "disp-0655\n",
      "disp-0300\n",
      "disp-0458\n",
      "disp-0331\n"
     ]
    },
    {
     "ename": "KeyboardInterrupt",
     "evalue": "",
     "output_type": "error",
     "traceback": [
      "\u001b[0;31m---------------------------------------------------------------------------\u001b[0m",
      "\u001b[0;31mKeyboardInterrupt\u001b[0m                         Traceback (most recent call last)",
      "Cell \u001b[0;32mIn[10], line 12\u001b[0m\n\u001b[1;32m      9\u001b[0m \u001b[38;5;66;03m# Read vasprun\u001b[39;00m\n\u001b[1;32m     10\u001b[0m \u001b[38;5;28;01mif\u001b[39;00m os\u001b[38;5;241m.\u001b[39mpath\u001b[38;5;241m.\u001b[39mexists(path_to_vasprun):\n\u001b[1;32m     11\u001b[0m     \u001b[38;5;66;03m# Read xml file with forces\u001b[39;00m\n\u001b[0;32m---> 12\u001b[0m     temp_vasprun \u001b[38;5;241m=\u001b[39m \u001b[43mase\u001b[49m\u001b[38;5;241;43m.\u001b[39;49m\u001b[43mio\u001b[49m\u001b[38;5;241;43m.\u001b[39;49m\u001b[43mread\u001b[49m\u001b[43m(\u001b[49m\u001b[43mpath_to_vasprun\u001b[49m\u001b[43m)\u001b[49m\n\u001b[1;32m     14\u001b[0m     \u001b[38;5;66;03m# Append to main list\u001b[39;00m\n\u001b[1;32m     15\u001b[0m     rattled_structures\u001b[38;5;241m.\u001b[39mappend(temp_vasprun)\n",
      "File \u001b[0;32m~/.local/lib/python3.10/site-packages/ase/io/formats.py:736\u001b[0m, in \u001b[0;36mread\u001b[0;34m(filename, index, format, parallel, do_not_split_by_at_sign, **kwargs)\u001b[0m\n\u001b[1;32m    733\u001b[0m     \u001b[38;5;28;01mreturn\u001b[39;00m \u001b[38;5;28mlist\u001b[39m(_iread(filename, index, \u001b[38;5;28mformat\u001b[39m, io, parallel\u001b[38;5;241m=\u001b[39mparallel,\n\u001b[1;32m    734\u001b[0m                        \u001b[38;5;241m*\u001b[39m\u001b[38;5;241m*\u001b[39mkwargs))\n\u001b[1;32m    735\u001b[0m \u001b[38;5;28;01melse\u001b[39;00m:\n\u001b[0;32m--> 736\u001b[0m     \u001b[38;5;28;01mreturn\u001b[39;00m \u001b[38;5;28;43mnext\u001b[39;49m\u001b[43m(\u001b[49m\u001b[43m_iread\u001b[49m\u001b[43m(\u001b[49m\u001b[43mfilename\u001b[49m\u001b[43m,\u001b[49m\u001b[43m \u001b[49m\u001b[38;5;28;43mslice\u001b[39;49m\u001b[43m(\u001b[49m\u001b[43mindex\u001b[49m\u001b[43m,\u001b[49m\u001b[43m \u001b[49m\u001b[38;5;28;43;01mNone\u001b[39;49;00m\u001b[43m)\u001b[49m\u001b[43m,\u001b[49m\u001b[43m \u001b[49m\u001b[38;5;28;43mformat\u001b[39;49m\u001b[43m,\u001b[49m\u001b[43m \u001b[49m\u001b[43mio\u001b[49m\u001b[43m,\u001b[49m\n\u001b[1;32m    737\u001b[0m \u001b[43m                       \u001b[49m\u001b[43mparallel\u001b[49m\u001b[38;5;241;43m=\u001b[39;49m\u001b[43mparallel\u001b[49m\u001b[43m,\u001b[49m\u001b[43m \u001b[49m\u001b[38;5;241;43m*\u001b[39;49m\u001b[38;5;241;43m*\u001b[39;49m\u001b[43mkwargs\u001b[49m\u001b[43m)\u001b[49m\u001b[43m)\u001b[49m\n",
      "File \u001b[0;32m~/.local/lib/python3.10/site-packages/ase/parallel.py:275\u001b[0m, in \u001b[0;36mparallel_generator.<locals>.new_generator\u001b[0;34m(*args, **kwargs)\u001b[0m\n\u001b[1;32m    269\u001b[0m \u001b[38;5;129m@functools\u001b[39m\u001b[38;5;241m.\u001b[39mwraps(generator)\n\u001b[1;32m    270\u001b[0m \u001b[38;5;28;01mdef\u001b[39;00m \u001b[38;5;21mnew_generator\u001b[39m(\u001b[38;5;241m*\u001b[39margs, \u001b[38;5;241m*\u001b[39m\u001b[38;5;241m*\u001b[39mkwargs):\n\u001b[1;32m    271\u001b[0m     \u001b[38;5;28;01mif\u001b[39;00m (world\u001b[38;5;241m.\u001b[39msize \u001b[38;5;241m==\u001b[39m \u001b[38;5;241m1\u001b[39m \u001b[38;5;129;01mor\u001b[39;00m\n\u001b[1;32m    272\u001b[0m         args \u001b[38;5;129;01mand\u001b[39;00m \u001b[38;5;28mgetattr\u001b[39m(args[\u001b[38;5;241m0\u001b[39m], \u001b[38;5;124m'\u001b[39m\u001b[38;5;124mserial\u001b[39m\u001b[38;5;124m'\u001b[39m, \u001b[38;5;28;01mFalse\u001b[39;00m) \u001b[38;5;129;01mor\u001b[39;00m\n\u001b[1;32m    273\u001b[0m         \u001b[38;5;129;01mnot\u001b[39;00m kwargs\u001b[38;5;241m.\u001b[39mpop(\u001b[38;5;124m'\u001b[39m\u001b[38;5;124mparallel\u001b[39m\u001b[38;5;124m'\u001b[39m, \u001b[38;5;28;01mTrue\u001b[39;00m)):\n\u001b[1;32m    274\u001b[0m         \u001b[38;5;66;03m# Disable:\u001b[39;00m\n\u001b[0;32m--> 275\u001b[0m         \u001b[38;5;28;01mfor\u001b[39;00m result \u001b[38;5;129;01min\u001b[39;00m generator(\u001b[38;5;241m*\u001b[39margs, \u001b[38;5;241m*\u001b[39m\u001b[38;5;241m*\u001b[39mkwargs):\n\u001b[1;32m    276\u001b[0m             \u001b[38;5;28;01myield\u001b[39;00m result\n\u001b[1;32m    277\u001b[0m         \u001b[38;5;28;01mreturn\u001b[39;00m\n",
      "File \u001b[0;32m~/.local/lib/python3.10/site-packages/ase/io/formats.py:803\u001b[0m, in \u001b[0;36m_iread\u001b[0;34m(filename, index, format, io, parallel, full_output, **kwargs)\u001b[0m\n\u001b[1;32m    801\u001b[0m \u001b[38;5;66;03m# Make sure fd is closed in case loop doesn't finish:\u001b[39;00m\n\u001b[1;32m    802\u001b[0m \u001b[38;5;28;01mtry\u001b[39;00m:\n\u001b[0;32m--> 803\u001b[0m     \u001b[38;5;28;01mfor\u001b[39;00m dct \u001b[38;5;129;01min\u001b[39;00m io\u001b[38;5;241m.\u001b[39mread(fd, \u001b[38;5;241m*\u001b[39margs, \u001b[38;5;241m*\u001b[39m\u001b[38;5;241m*\u001b[39mkwargs):\n\u001b[1;32m    804\u001b[0m         \u001b[38;5;28;01mif\u001b[39;00m \u001b[38;5;129;01mnot\u001b[39;00m \u001b[38;5;28misinstance\u001b[39m(dct, \u001b[38;5;28mdict\u001b[39m):\n\u001b[1;32m    805\u001b[0m             dct \u001b[38;5;241m=\u001b[39m {\u001b[38;5;124m'\u001b[39m\u001b[38;5;124matoms\u001b[39m\u001b[38;5;124m'\u001b[39m: dct}\n",
      "File \u001b[0;32m~/.local/lib/python3.10/site-packages/ase/io/vasp.py:384\u001b[0m, in \u001b[0;36mread_vasp_xml\u001b[0;34m(filename, index)\u001b[0m\n\u001b[1;32m    381\u001b[0m parameters \u001b[38;5;241m=\u001b[39m OrderedDict()\n\u001b[1;32m    383\u001b[0m \u001b[38;5;28;01mtry\u001b[39;00m:\n\u001b[0;32m--> 384\u001b[0m     \u001b[38;5;28;01mfor\u001b[39;00m event, elem \u001b[38;5;129;01min\u001b[39;00m tree:\n\u001b[1;32m    386\u001b[0m         \u001b[38;5;28;01mif\u001b[39;00m event \u001b[38;5;241m==\u001b[39m \u001b[38;5;124m'\u001b[39m\u001b[38;5;124mend\u001b[39m\u001b[38;5;124m'\u001b[39m:\n\u001b[1;32m    387\u001b[0m             \u001b[38;5;28;01mif\u001b[39;00m elem\u001b[38;5;241m.\u001b[39mtag \u001b[38;5;241m==\u001b[39m \u001b[38;5;124m'\u001b[39m\u001b[38;5;124mkpoints\u001b[39m\u001b[38;5;124m'\u001b[39m:\n",
      "File \u001b[0;32m/usr/lib/python3.10/xml/etree/ElementTree.py:1255\u001b[0m, in \u001b[0;36miterparse.<locals>.iterator\u001b[0;34m(source)\u001b[0m\n\u001b[1;32m   1253\u001b[0m \u001b[38;5;28;01myield from\u001b[39;00m pullparser\u001b[38;5;241m.\u001b[39mread_events()\n\u001b[1;32m   1254\u001b[0m \u001b[38;5;66;03m# load event buffer\u001b[39;00m\n\u001b[0;32m-> 1255\u001b[0m data \u001b[38;5;241m=\u001b[39m \u001b[43msource\u001b[49m\u001b[38;5;241;43m.\u001b[39;49m\u001b[43mread\u001b[49m\u001b[43m(\u001b[49m\u001b[38;5;241;43m16\u001b[39;49m\u001b[43m \u001b[49m\u001b[38;5;241;43m*\u001b[39;49m\u001b[43m \u001b[49m\u001b[38;5;241;43m1024\u001b[39;49m\u001b[43m)\u001b[49m\n\u001b[1;32m   1256\u001b[0m \u001b[38;5;28;01mif\u001b[39;00m \u001b[38;5;129;01mnot\u001b[39;00m data:\n\u001b[1;32m   1257\u001b[0m     \u001b[38;5;28;01mbreak\u001b[39;00m\n",
      "File \u001b[0;32m/usr/lib/python3.10/gzip.py:314\u001b[0m, in \u001b[0;36mGzipFile.read1\u001b[0;34m(self, size)\u001b[0m\n\u001b[1;32m    312\u001b[0m \u001b[38;5;28;01mif\u001b[39;00m size \u001b[38;5;241m<\u001b[39m \u001b[38;5;241m0\u001b[39m:\n\u001b[1;32m    313\u001b[0m     size \u001b[38;5;241m=\u001b[39m io\u001b[38;5;241m.\u001b[39mDEFAULT_BUFFER_SIZE\n\u001b[0;32m--> 314\u001b[0m \u001b[38;5;28;01mreturn\u001b[39;00m \u001b[38;5;28;43mself\u001b[39;49m\u001b[38;5;241;43m.\u001b[39;49m\u001b[43m_buffer\u001b[49m\u001b[38;5;241;43m.\u001b[39;49m\u001b[43mread1\u001b[49m\u001b[43m(\u001b[49m\u001b[43msize\u001b[49m\u001b[43m)\u001b[49m\n",
      "File \u001b[0;32m/usr/lib/python3.10/_compression.py:68\u001b[0m, in \u001b[0;36mDecompressReader.readinto\u001b[0;34m(self, b)\u001b[0m\n\u001b[1;32m     66\u001b[0m \u001b[38;5;28;01mdef\u001b[39;00m \u001b[38;5;21mreadinto\u001b[39m(\u001b[38;5;28mself\u001b[39m, b):\n\u001b[1;32m     67\u001b[0m     \u001b[38;5;28;01mwith\u001b[39;00m \u001b[38;5;28mmemoryview\u001b[39m(b) \u001b[38;5;28;01mas\u001b[39;00m view, view\u001b[38;5;241m.\u001b[39mcast(\u001b[38;5;124m\"\u001b[39m\u001b[38;5;124mB\u001b[39m\u001b[38;5;124m\"\u001b[39m) \u001b[38;5;28;01mas\u001b[39;00m byte_view:\n\u001b[0;32m---> 68\u001b[0m         data \u001b[38;5;241m=\u001b[39m \u001b[38;5;28;43mself\u001b[39;49m\u001b[38;5;241;43m.\u001b[39;49m\u001b[43mread\u001b[49m\u001b[43m(\u001b[49m\u001b[38;5;28;43mlen\u001b[39;49m\u001b[43m(\u001b[49m\u001b[43mbyte_view\u001b[49m\u001b[43m)\u001b[49m\u001b[43m)\u001b[49m\n\u001b[1;32m     69\u001b[0m         byte_view[:\u001b[38;5;28mlen\u001b[39m(data)] \u001b[38;5;241m=\u001b[39m data\n\u001b[1;32m     70\u001b[0m     \u001b[38;5;28;01mreturn\u001b[39;00m \u001b[38;5;28mlen\u001b[39m(data)\n",
      "File \u001b[0;32m/usr/lib/python3.10/gzip.py:510\u001b[0m, in \u001b[0;36m_GzipReader.read\u001b[0;34m(self, size)\u001b[0m\n\u001b[1;32m    506\u001b[0m     \u001b[38;5;28;01mif\u001b[39;00m buf \u001b[38;5;241m==\u001b[39m \u001b[38;5;124mb\u001b[39m\u001b[38;5;124m\"\u001b[39m\u001b[38;5;124m\"\u001b[39m:\n\u001b[1;32m    507\u001b[0m         \u001b[38;5;28;01mraise\u001b[39;00m \u001b[38;5;167;01mEOFError\u001b[39;00m(\u001b[38;5;124m\"\u001b[39m\u001b[38;5;124mCompressed file ended before the \u001b[39m\u001b[38;5;124m\"\u001b[39m\n\u001b[1;32m    508\u001b[0m                        \u001b[38;5;124m\"\u001b[39m\u001b[38;5;124mend-of-stream marker was reached\u001b[39m\u001b[38;5;124m\"\u001b[39m)\n\u001b[0;32m--> 510\u001b[0m \u001b[38;5;28;43mself\u001b[39;49m\u001b[38;5;241;43m.\u001b[39;49m\u001b[43m_add_read_data\u001b[49m\u001b[43m(\u001b[49m\u001b[43m \u001b[49m\u001b[43muncompress\u001b[49m\u001b[43m \u001b[49m\u001b[43m)\u001b[49m\n\u001b[1;32m    511\u001b[0m \u001b[38;5;28mself\u001b[39m\u001b[38;5;241m.\u001b[39m_pos \u001b[38;5;241m+\u001b[39m\u001b[38;5;241m=\u001b[39m \u001b[38;5;28mlen\u001b[39m(uncompress)\n\u001b[1;32m    512\u001b[0m \u001b[38;5;28;01mreturn\u001b[39;00m uncompress\n",
      "File \u001b[0;32m/usr/lib/python3.10/gzip.py:515\u001b[0m, in \u001b[0;36m_GzipReader._add_read_data\u001b[0;34m(self, data)\u001b[0m\n\u001b[1;32m    514\u001b[0m \u001b[38;5;28;01mdef\u001b[39;00m \u001b[38;5;21m_add_read_data\u001b[39m(\u001b[38;5;28mself\u001b[39m, data):\n\u001b[0;32m--> 515\u001b[0m     \u001b[38;5;28mself\u001b[39m\u001b[38;5;241m.\u001b[39m_crc \u001b[38;5;241m=\u001b[39m \u001b[43mzlib\u001b[49m\u001b[38;5;241;43m.\u001b[39;49m\u001b[43mcrc32\u001b[49m\u001b[43m(\u001b[49m\u001b[43mdata\u001b[49m\u001b[43m,\u001b[49m\u001b[43m \u001b[49m\u001b[38;5;28;43mself\u001b[39;49m\u001b[38;5;241;43m.\u001b[39;49m\u001b[43m_crc\u001b[49m\u001b[43m)\u001b[49m\n\u001b[1;32m    516\u001b[0m     \u001b[38;5;28mself\u001b[39m\u001b[38;5;241m.\u001b[39m_stream_size \u001b[38;5;241m=\u001b[39m \u001b[38;5;28mself\u001b[39m\u001b[38;5;241m.\u001b[39m_stream_size \u001b[38;5;241m+\u001b[39m \u001b[38;5;28mlen\u001b[39m(data)\n",
      "\u001b[0;31mKeyboardInterrupt\u001b[0m: "
     ]
    }
   ],
   "source": [
    "primtive_cell = read_vasp(setup_variables['path_to_primtive_cell'])\n",
    "super_cell = read_vasp(setup_variables['path_to_super_cell'])\n",
    "\n",
    "rattled_structures = []\n",
    "for folder in os.listdir(setup_variables['path_to_relaxations']):\n",
    "    print(folder)\n",
    "    path_to_vasprun = f'{setup_variables['path_to_relaxations']}/{folder}/vasprun.xml.gz'\n",
    "    \n",
    "    # Read vasprun\n",
    "    if os.path.exists(path_to_vasprun):\n",
    "        # Read xml file with forces\n",
    "        temp_vasprun = ase.io.read(path_to_vasprun)\n",
    "\n",
    "        # Append to main list\n",
    "        rattled_structures.append(temp_vasprun)"
   ]
  },
  {
   "cell_type": "code",
   "execution_count": null,
   "id": "a528b464",
   "metadata": {},
   "outputs": [],
   "source": [
    "print(rattled_structures)"
   ]
  },
  {
   "cell_type": "markdown",
   "id": "1ad6e2ee-740d-435f-85cf-6c2e606d22ee",
   "metadata": {},
   "source": [
    "Set up cluster space"
   ]
  },
  {
   "cell_type": "code",
   "execution_count": 33,
   "id": "07cb9676-7bf3-4351-b07a-dcbea69ae6a1",
   "metadata": {
    "scrolled": true
   },
   "outputs": [
    {
     "name": "stdout",
     "output_type": "stream",
     "text": [
      "Primitive cell:\n",
      "    Formula: CrN\n",
      "    Cell:\n",
      "        [  2.10431   2.11329   0.00000]\n",
      "        [  2.10431  -2.11329   0.00000]\n",
      "        [ -2.10431   0.00000  -2.11329]\n",
      "    Basis:\n",
      "        Cr  [  0.50000   0.50000   0.00000]\n",
      "        N   [  0.00000   0.00000   0.00000]\n",
      "\n",
      "Crystal symmetry:\n",
      "    Spacegroup:          I4/mmm (139)\n",
      "    Unique site:         2\n",
      "    Symmetry operations: 16\n",
      "    symprec:             1.00e-05\n",
      "\n",
      "Cutoffs:\n",
      "    Maximum cutoff: 4.0\n",
      "    Found 2 center atoms with 34 images totaling 36 atoms\n",
      "\n",
      "Clusters:\n",
      "    Clusters: {2: 53, 3: 352, 4: 535}\n",
      "    Total number of clusters: 940\n",
      "\n",
      "Orbits:\n",
      "    Orbits: {2: 9, 3: 22, 4: 36}\n",
      "    Total number of orbits: 67\n",
      "\n",
      "Eigentensors:\n",
      "    Eigentensors: {2: 28, 3: 220, 4: 728}\n",
      "    Total number of parameters: 976\n",
      "    Discarded orbits:\n",
      "        (0, 0, 0)\n",
      "        (1, 1, 1)\n",
      "\n",
      "Constraints:\n",
      "    Acoustic: True\n",
      "    Number of degrees of freedom: {2: 24, 3: 183, 4: 409}\n",
      "    Total number of degrees of freedom: 616\n",
      "=================== Cluster Space ====================\n",
      "Spacegroup                 : I4/mmm (139)\n",
      "symprec                    : 1e-05\n",
      "Sum rules                  : True\n",
      "Length scale               : 0.1\n",
      "Cutoffs                    :\n",
      "========== Cutoffs ===========\n",
      " body/order |  2  |  3  |  4  \n",
      "------------------------------\n",
      "     1      |  -  |  -  |  -  \n",
      "     2      | 4.0 | 4.0 | 3.0 \n",
      "     3      |  -  | 4.0 | 3.0 \n",
      "     4      |  -  |  -  | 3.0 \n",
      "==============================\n",
      "Cell                       : Cell([[2.1043093954868364, 2.113294820852644, 0.0], [2.1043093954868364, -2.113294820852644, 0.0], [-2.1043093954868364, 0.0, -2.113294820852644]])\n",
      "Basis                      : [[0.5 0.5 0. ]\n",
      " [0.  0.  0. ]]\n",
      "Numbers                    : [24  7]\n",
      "Total number of orbits     : 65\n",
      "Total number of clusters   : 370\n",
      "Total number of parameters : 616\n",
      "------------------------------------------------------\n",
      "order | n_orbits | n_clusters\n",
      "------------------------------------------------------\n",
      "  2   |      9   |      28\n",
      "  3   |     20   |     140\n",
      "  4   |     36   |     202\n",
      "======================================================\n"
     ]
    }
   ],
   "source": [
    "cs = ClusterSpace(primtive_cell, cutoffs)\n",
    "\n",
    "# Save ClusterSpace\n",
    "cs.write(setup_variables['path_to_cluster_space'])\n",
    "print(cs)"
   ]
  },
  {
   "cell_type": "code",
   "execution_count": 24,
   "id": "ff1c5669",
   "metadata": {
    "scrolled": true
   },
   "outputs": [
    {
     "name": "stdout",
     "output_type": "stream",
     "text": [
      "===================================== List of Orbits =====================================\n",
      "index | order |      elements      |  radius  |     prototype      | clusters | parameters\n",
      "------------------------------------------------------------------------------------------\n",
      "  0   |   2   |       Cr Cr        |  0.0000  |       (0, 0)       |    1     |     2     \n",
      "  1   |   2   |        Cr N        |  1.0522  |       (0, 1)       |    2     |     2     \n",
      "  2   |   2   |       Cr Cr        |  1.4912  |       (0, 2)       |    4     |     4     \n",
      "  3   |   2   |        Cr N        |  1.8276  |       (0, 3)       |    8     |     5     \n",
      "  4   |   2   |        Cr N        |  1.0566  |       (0, 5)       |    4     |     3     \n",
      "  5   |   2   |       Cr Cr        |  1.4943  |       (0, 6)       |    2     |     3     \n",
      "  6   |   2   |        N N         |  0.0000  |       (1, 1)       |    1     |     2     \n",
      "  7   |   2   |        N N         |  1.4912  |       (1, 5)       |    4     |     4     \n",
      "  8   |   2   |        N N         |  1.4943  |       (1, 7)       |    2     |     3     \n",
      "  9   |   3   |      Cr Cr N       |  0.9352  |     (0, 0, 1)      |    2     |     3     \n",
      " 10   |   3   |      Cr Cr Cr      |  1.3255  |     (0, 0, 2)      |    8     |    10     \n",
      " 11   |   3   |      Cr Cr N       |  1.6245  |     (0, 0, 3)      |    8     |    10     \n",
      " 12   |   3   |      Cr Cr N       |  0.9392  |     (0, 0, 5)      |    4     |     5     \n",
      " 13   |   3   |      Cr Cr Cr      |  1.3283  |     (0, 0, 6)      |    4     |     5     \n",
      " 14   |   3   |       Cr N N       |  0.9352  |     (0, 1, 1)      |    2     |     3     \n",
      " 15   |   3   |      Cr N Cr       |  1.3792  |     (0, 1, 2)      |    8     |    14     \n",
      " 16   |   3   |       Cr N N       |  1.3792  |     (0, 1, 5)      |    8     |    14     \n",
      " 17   |   3   |      Cr N Cr       |  1.6838  |     (0, 1, 6)      |    8     |    14     \n",
      " 18   |   3   |       Cr N N       |  1.6838  |     (0, 1, 7)      |    8     |    14     \n",
      " 19   |   3   |      Cr Cr N       |  1.6840  |     (0, 2, 5)      |    16    |    27     \n",
      " 20   |   3   |      Cr Cr Cr      |  1.7231  |     (0, 2, 6)      |    8     |    15     \n",
      " 21   |   3   |       Cr N N       |  1.6245  |     (0, 3, 3)      |    8     |    10     \n",
      " 22   |   3   |       Cr N N       |  1.6840  |     (0, 3, 5)      |    16    |    27     \n",
      " 23   |   3   |       Cr N N       |  0.9392  |     (0, 5, 5)      |    4     |     5     \n",
      " 24   |   3   |      Cr N Cr       |  1.3822  |     (0, 5, 6)      |    4     |     7     \n",
      " 25   |   3   |       Cr N N       |  1.3822  |     (0, 5, 15)     |    4     |     7     \n",
      " 26   |   3   |       N N N        |  1.3255  |     (1, 1, 5)      |    8     |    10     \n",
      " 27   |   3   |       N N N        |  1.3283  |     (1, 1, 7)      |    4     |     5     \n",
      " 28   |   3   |       N N N        |  1.7231  |     (1, 5, 7)      |    8     |    15     \n",
      " 29   |   4   |    Cr Cr Cr Cr     |  0.0000  |    (0, 0, 0, 0)    |    1     |     4     \n",
      " 30   |   4   |     Cr Cr Cr N     |  0.7891  |    (0, 0, 0, 1)    |    2     |     5     \n",
      " 31   |   4   |    Cr Cr Cr Cr     |  1.1184  |    (0, 0, 0, 2)    |    8     |    16     \n",
      " 32   |   4   |     Cr Cr Cr N     |  0.7925  |    (0, 0, 0, 5)    |    4     |     9     \n",
      " 33   |   4   |    Cr Cr Cr Cr     |  1.1207  |    (0, 0, 0, 6)    |    4     |     9     \n",
      " 34   |   4   |     Cr Cr N N      |  1.0522  |    (0, 0, 1, 1)    |    2     |     7     \n",
      " 35   |   4   |     Cr Cr N Cr     |  1.3586  |    (0, 0, 1, 2)    |    8     |    28     \n",
      " 36   |   4   |     Cr Cr N N      |  1.2064  |    (0, 0, 1, 5)    |    8     |    28     \n",
      " 37   |   4   |    Cr Cr Cr Cr     |  1.4912  |    (0, 0, 2, 2)    |    4     |    13     \n",
      " 38   |   4   |    Cr Cr Cr Cr     |  1.6335  |    (0, 0, 2, 6)    |    16    |    54     \n",
      " 39   |   4   |     Cr Cr Cr N     |  1.3601  |   (0, 0, 2, 15)    |    8     |    28     \n",
      " 40   |   4   |    Cr Cr Cr Cr     |  1.6324  |   (0, 0, 2, 19)    |    8     |    30     \n",
      " 41   |   4   |     Cr Cr N N      |  1.0566  |    (0, 0, 5, 5)    |    4     |    12     \n",
      " 42   |   4   |     Cr Cr N Cr     |  1.3623  |    (0, 0, 5, 6)    |    8     |    28     \n",
      " 43   |   4   |     Cr Cr N N      |  1.2089  |   (0, 0, 5, 15)    |    4     |    17     \n",
      " 44   |   4   |    Cr Cr Cr Cr     |  1.4943  |    (0, 0, 6, 6)    |    2     |     9     \n",
      " 45   |   4   |      Cr N N N      |  0.7891  |    (0, 1, 1, 1)    |    2     |     5     \n",
      " 46   |   4   |     Cr N N Cr      |  1.2064  |    (0, 1, 1, 2)    |    8     |    28     \n",
      " 47   |   4   |      Cr N N N      |  1.3586  |    (0, 1, 1, 5)    |    8     |    28     \n",
      " 48   |   4   |     Cr N Cr N      |  1.4912  |   (0, 1, 2, 15)    |    4     |    25     \n",
      " 49   |   4   |     Cr N Cr Cr     |  1.5408  |   (0, 1, 2, 19)    |    8     |    42     \n",
      " 50   |   4   |      Cr N N N      |  1.3601  |    (0, 1, 5, 5)    |    8     |    28     \n",
      " 51   |   4   |      Cr N N N      |  1.5408  |   (0, 1, 5, 15)    |    8     |    42     \n",
      " 52   |   4   |    Cr Cr Cr Cr     |  1.8276  |   (0, 2, 6, 21)    |    2     |    15     \n",
      " 53   |   4   |      Cr N N N      |  0.7925  |    (0, 5, 5, 5)    |    4     |     9     \n",
      " 54   |   4   |     Cr N N Cr      |  1.2089  |    (0, 5, 5, 6)    |    4     |    17     \n",
      " 55   |   4   |      Cr N N N      |  1.3623  |   (0, 5, 5, 15)    |    8     |    28     \n",
      " 56   |   4   |     Cr N Cr N      |  1.4943  |   (0, 5, 6, 15)    |    2     |    14     \n",
      " 57   |   4   |      N N N N       |  0.0000  |    (1, 1, 1, 1)    |    1     |     4     \n",
      " 58   |   4   |      N N N N       |  1.1184  |    (1, 1, 1, 5)    |    8     |    16     \n",
      " 59   |   4   |      N N N N       |  1.1207  |    (1, 1, 1, 7)    |    4     |     9     \n",
      " 60   |   4   |      N N N N       |  1.4912  |    (1, 1, 5, 5)    |    4     |    13     \n",
      " 61   |   4   |      N N N N       |  1.6335  |    (1, 1, 5, 7)    |    16    |    54     \n",
      " 62   |   4   |      N N N N       |  1.6324  |   (1, 1, 5, 15)    |    8     |    30     \n",
      " 63   |   4   |      N N N N       |  1.4943  |    (1, 1, 7, 7)    |    2     |     9     \n",
      " 64   |   4   |      N N N N       |  1.8276  |   (1, 5, 7, 15)    |    2     |    15     \n",
      "==========================================================================================\n"
     ]
    }
   ],
   "source": [
    "cs.print_orbits()"
   ]
  },
  {
   "cell_type": "markdown",
   "id": "a2d0ca05-ebaa-4610-ba8e-af9f75f1ebb7",
   "metadata": {},
   "source": [
    "Set up structure container"
   ]
  },
  {
   "cell_type": "code",
   "execution_count": 32,
   "id": "546e0844-ccf1-49b2-82bc-8ec542730eff",
   "metadata": {
    "scrolled": true
   },
   "outputs": [
    {
     "name": "stdout",
     "output_type": "stream",
     "text": [
      "=============== Structure Container ================\n",
      "Total number of structures : 62\n",
      "Number of force components : 11904\n",
      "----------------------------------------------------\n",
      "index | num-atoms | avg-disp | avg-force | max-force\n",
      "----------------------------------------------------\n",
      " 0    |    64     |  0.2986  |   2.6638  |   5.4121 \n",
      " 1    |    64     |  0.2795  |   2.3795  |   5.1255 \n",
      " 2    |    64     |  0.2849  |   2.3371  |   4.5165 \n",
      " 3    |    64     |  0.2765  |   2.3122  |   4.3475 \n",
      " 4    |    64     |  0.3030  |   2.0683  |   4.0355 \n",
      " 5    |    64     |  0.2753  |   2.2454  |   4.5369 \n",
      " 6    |    64     |  0.2900  |   2.2606  |   3.8235 \n",
      " 7    |    64     |  0.2875  |   2.3280  |   5.0206 \n",
      " 8    |    64     |  0.2818  |   2.5161  |   4.7912 \n",
      " 9    |    64     |  0.2831  |   2.4536  |   4.3165 \n",
      " 10   |    64     |  0.2944  |   2.2991  |   3.9870 \n",
      " 11   |    64     |  0.2896  |   2.6814  |   5.7609 \n",
      " 12   |    64     |  0.2874  |   2.5172  |   4.7525 \n",
      " 13   |    64     |  0.2946  |   2.1551  |   4.1398 \n",
      " 14   |    64     |  0.3039  |   2.4804  |   4.3950 \n",
      " 15   |    64     |  0.2860  |   2.2625  |   5.2439 \n",
      " 16   |    64     |  0.2675  |   2.1558  |   4.2067 \n",
      " 17   |    64     |  0.2861  |   2.3703  |   4.0929 \n",
      " 18   |    64     |  0.2680  |   2.4916  |   4.5479 \n",
      " 19   |    64     |  0.2942  |   2.4860  |   5.4128 \n",
      " 20   |    64     |  0.2828  |   2.3277  |   4.5950 \n",
      " 21   |    64     |  0.2954  |   2.0505  |   4.5777 \n",
      " 22   |    64     |  0.2816  |   2.2758  |   4.2380 \n",
      " 23   |    64     |  0.2874  |   2.5324  |   4.8822 \n",
      " 24   |    64     |  0.2830  |   2.2961  |   4.6114 \n",
      " 25   |    64     |  0.2784  |   2.2468  |   5.4636 \n",
      " 26   |    64     |  0.2740  |   2.0501  |   4.2617 \n",
      " 27   |    64     |  0.2974  |   2.4923  |   4.4327 \n",
      " 28   |    64     |  0.3155  |   2.3933  |   6.3847 \n",
      " 29   |    64     |  0.2882  |   2.1844  |   4.0350 \n",
      " 30   |    64     |  0.3081  |   2.5275  |   5.3682 \n",
      " 31   |    64     |  0.2916  |   2.1955  |   4.1238 \n",
      " 32   |    64     |  0.2816  |   2.4459  |   5.5557 \n",
      " 33   |    64     |  0.2690  |   2.4801  |   4.9104 \n",
      " 34   |    64     |  0.2766  |   2.4144  |   4.7224 \n",
      " 35   |    64     |  0.2796  |   2.4199  |   5.0400 \n",
      " 36   |    64     |  0.2816  |   2.6228  |   5.2496 \n",
      " 37   |    64     |  0.2791  |   2.2770  |   4.4317 \n",
      " 38   |    64     |  0.2797  |   2.3594  |   5.7603 \n",
      " 39   |    64     |  0.3079  |   2.4247  |   4.9513 \n",
      " 40   |    64     |  0.2959  |   2.6524  |   5.5500 \n",
      " 41   |    64     |  0.2838  |   2.6095  |   5.5394 \n",
      " 42   |    64     |  0.2710  |   2.2059  |   4.6861 \n",
      " 43   |    64     |  0.2893  |   2.1678  |   4.3082 \n",
      " 44   |    64     |  0.2899  |   2.4264  |   5.3798 \n",
      " 45   |    64     |  0.3027  |   2.6152  |   4.7288 \n",
      " 46   |    64     |  0.2919  |   2.4890  |   4.9321 \n",
      " 47   |    64     |  0.3047  |   2.4511  |   5.5658 \n",
      " 48   |    64     |  0.2918  |   2.5301  |   4.6074 \n",
      " 49   |    64     |  0.2946  |   2.6978  |   4.5708 \n",
      " 50   |    64     |  0.2789  |   2.4710  |   4.3653 \n",
      " 51   |    64     |  0.2894  |   2.5259  |   4.2324 \n",
      " 52   |    64     |  0.3115  |   2.4289  |   5.2653 \n",
      " 53   |    64     |  0.2715  |   2.2580  |   4.3173 \n",
      " 54   |    64     |  0.2839  |   2.2773  |   4.7339 \n",
      " 55   |    64     |  0.2924  |   2.4676  |   4.3383 \n",
      " 56   |    64     |  0.3016  |   2.3681  |   4.5709 \n",
      " 57   |    64     |  0.3014  |   2.2710  |   4.9694 \n",
      " 58   |    64     |  0.2984  |   2.3433  |   4.6418 \n",
      " 59   |    64     |  0.2841  |   2.3943  |   5.0530 \n",
      " 60   |    64     |  0.2800  |   2.4676  |   5.8640 \n",
      " 61   |    64     |  0.2902  |   2.2927  |   5.6297 \n",
      "====================================================\n"
     ]
    }
   ],
   "source": [
    "structures = prepare_structures(rattled_structures, super_cell)\n",
    "sc = StructureContainer(cs)\n",
    "for structure in structures:\n",
    "    sc.add_structure(structure)\n",
    "\n",
    "# Save StructureContainer\n",
    "sc.write(setup_variables['path_to_structure_container'])\n",
    "print(sc)"
   ]
  },
  {
   "cell_type": "markdown",
   "id": "a291948e-8b97-476a-81f3-8d396ff94e29",
   "metadata": {},
   "source": [
    "Train the model"
   ]
  },
  {
   "cell_type": "code",
   "execution_count": 26,
   "id": "62fc812a-0bbe-42c1-844f-7f6f4a6f948e",
   "metadata": {},
   "outputs": [
    {
     "name": "stdout",
     "output_type": "stream",
     "text": [
      "===================== Optimizer ======================\n",
      "seed                           : 42\n",
      "fit_method                     : least-squares\n",
      "standardize                    : True\n",
      "n_target_values                : 11904\n",
      "n_parameters                   : 616\n",
      "n_nonzero_parameters           : 616\n",
      "parameters_norm                : 18.77811\n",
      "target_values_std              : 1.481684\n",
      "rmse_train                     : 0.3325881\n",
      "rmse_test                      : 0.3463251\n",
      "R2_train                       : 0.9494514\n",
      "R2_test                        : 0.9468675\n",
      "AIC                            : -22354.82\n",
      "BIC                            : -17870.83\n",
      "train_size                     : 10713\n",
      "test_size                      : 1191\n",
      "======================================================\n"
     ]
    }
   ],
   "source": [
    "opt = Optimizer(sc.get_fit_data())\n",
    "opt.train()\n",
    "print(opt)"
   ]
  },
  {
   "cell_type": "markdown",
   "id": "812cfbe1-d3e2-4058-b1e8-a4700896632a",
   "metadata": {},
   "source": [
    "Construct force constant potential"
   ]
  },
  {
   "cell_type": "code",
   "execution_count": 27,
   "id": "cd0341b6-cc1b-498e-b419-a5ef5ddcc4cc",
   "metadata": {},
   "outputs": [
    {
     "name": "stdout",
     "output_type": "stream",
     "text": [
      "=============== ForceConstantPotential ===============\n",
      "Spacegroup I4/mmm (139)\n",
      "Cell:\n",
      "Cell([[2.1043093954868364, 2.113294820852644, 0.0], [2.1043093954868364, -2.113294820852644, 0.0], [-2.1043093954868364, 0.0, -2.113294820852644]])\n",
      "Basis:\n",
      "[[0.5 0.5 0. ]\n",
      " [0.  0.  0. ]]\n",
      "Numbers: [24  7]\n",
      "Cutoff matrix:\n",
      "[[ 4.  4.  3.]\n",
      " [nan  4.  3.]\n",
      " [nan nan  3.]]\n",
      "Order 2, #orbits 9, #cluster 28, #parameters 24\n",
      "Order 3, #orbits 20, #cluster 140, #parameters 183\n",
      "Order 4, #orbits 36, #cluster 202, #parameters 409\n",
      "Total number of orbits: 65\n",
      "total number of clusters: 370\n",
      "total number of parameters: 616\n",
      "======================================================\n"
     ]
    }
   ],
   "source": [
    "fcp = ForceConstantPotential(cs, opt.parameters)\n",
    "\n",
    "# Save ForceConstantPotential\n",
    "fcp.write(setup_variables['path_to_fcp'])\n",
    "print(fcp)"
   ]
  }
 ],
 "metadata": {
  "kernelspec": {
   "display_name": "Python 3 (ipykernel)",
   "language": "python",
   "name": "python3"
  },
  "language_info": {
   "codemirror_mode": {
    "name": "ipython",
    "version": 3
   },
   "file_extension": ".py",
   "mimetype": "text/x-python",
   "name": "python",
   "nbconvert_exporter": "python",
   "pygments_lexer": "ipython3",
   "version": "3.10.12"
  }
 },
 "nbformat": 4,
 "nbformat_minor": 5
}
