{
 "cells": [
  {
   "cell_type": "code",
   "execution_count": 1,
   "id": "23cb0d91-e113-4707-a01f-172427e4e1d4",
   "metadata": {},
   "outputs": [],
   "source": [
    "import json\n",
    "import os\n",
    "import ase.io\n",
    "\n",
    "from ase.io               import read,write\n",
    "from ase.io               import vasp\n",
    "from hiphive              import ClusterSpace, StructureContainer, ForceConstantPotential\n",
    "from hiphive.utilities    import prepare_structures,get_displacements\n",
    "from trainstation         import Optimizer\n",
    "from ase.calculators.vasp import Vasp\n",
    "from ase.io.vasp          import read_vasp,write_vasp"
   ]
  },
  {
   "cell_type": "markdown",
   "id": "126feb2b-7c14-47e0-9088-2d90928a0242",
   "metadata": {},
   "source": [
    "Read structures containing displacements and forces"
   ]
  },
  {
   "cell_type": "code",
   "execution_count": 2,
   "id": "dbafdfb3",
   "metadata": {},
   "outputs": [],
   "source": [
    "root_path = f'data/CrN-riccardo/all-volumes'\n",
    "\n",
    "# Create and save as a dictionary\n",
    "setup_variables = {\n",
    "    'root_path':                   root_path,\n",
    "    'path_to_relaxations':         f'{root_path}/calculations',\n",
    "    'path_to_primtive_cell':       f'{root_path}/POSCAR_unit',\n",
    "    'path_to_super_cell':          f'{root_path}/POSCAR_supercell',\n",
    "    'path_to_cluster_space':       f'{root_path}/cluster_space.cs',\n",
    "    'path_to_structure_container': f'{root_path}/structure_container.sc',\n",
    "    'path_to_fcp':                 f'{root_path}/material.fcp'\n",
    "}\n",
    "\n",
    "# Write the dictionary to the file in JSON format\n",
    "with open(f'setup_variables.json', 'w') as json_file:\n",
    "    json.dump(setup_variables, json_file)"
   ]
  },
  {
   "cell_type": "code",
   "execution_count": 3,
   "id": "1ed484a6-2908-4fec-8ebb-502cabac4d43",
   "metadata": {},
   "outputs": [],
   "source": [
    "# Cutoffs for pairs, triplets and quadruplets (in angstrom) \n",
    "cutoffs = [4.0, 4.0, 3.0]"
   ]
  },
  {
   "cell_type": "code",
   "execution_count": 4,
   "id": "3745a06c-f7b4-4659-8a02-843facb562d5",
   "metadata": {
    "scrolled": true
   },
   "outputs": [
    {
     "name": "stdout",
     "output_type": "stream",
     "text": [
      "disp-0010-SC_2x2x2_Vol_75.18\n",
      "disp-0008-SC_2x2x2_Vol_75.18\n",
      "disp-0001-SC_2x2x2_Vol_75.18\n",
      "disp-0008-SC_2x2x2_Vol_76.69\n"
     ]
    }
   ],
   "source": [
    "primtive_cell = read_vasp(setup_variables['path_to_primtive_cell'])\n",
    "super_cell    = read_vasp(setup_variables['path_to_super_cell'])\n",
    "\n",
    "rattled_structures = []\n",
    "for folder in os.listdir(setup_variables['path_to_relaxations']):\n",
    "    print(folder)\n",
    "    path_to_vasprun = f\"{setup_variables['path_to_relaxations']}/{folder}/vasprun.xml.gz\"\n",
    "    \n",
    "    # Read vasprun\n",
    "    if os.path.exists(path_to_vasprun):\n",
    "        # Read xml file with forces\n",
    "        temp_vasprun = ase.io.read(path_to_vasprun)\n",
    "\n",
    "        # Append to main list\n",
    "        rattled_structures.append(temp_vasprun)"
   ]
  },
  {
   "cell_type": "code",
   "execution_count": 5,
   "id": "d7ae49ee",
   "metadata": {},
   "outputs": [
    {
     "name": "stdout",
     "output_type": "stream",
     "text": [
      "[Atoms(symbols='Cr32N32', pbc=True, cell=[8.41723758, 8.45317928, 8.45317928], calculator=SinglePointDFTCalculator(...)), Atoms(symbols='Cr32N32', pbc=True, cell=[8.41723758, 8.45317928, 8.45317928], calculator=SinglePointDFTCalculator(...)), Atoms(symbols='Cr32N32', pbc=True, cell=[8.41723758, 8.45317928, 8.45317928], calculator=SinglePointDFTCalculator(...)), Atoms(symbols='Cr32N32', pbc=True, cell=[8.4729825, 8.50916223, 8.50916223], calculator=SinglePointDFTCalculator(...))]\n"
     ]
    }
   ],
   "source": [
    "print(rattled_structures)"
   ]
  },
  {
   "cell_type": "markdown",
   "id": "1ad6e2ee-740d-435f-85cf-6c2e606d22ee",
   "metadata": {},
   "source": [
    "Set up cluster space"
   ]
  },
  {
   "cell_type": "code",
   "execution_count": 6,
   "id": "07cb9676-7bf3-4351-b07a-dcbea69ae6a1",
   "metadata": {
    "scrolled": true
   },
   "outputs": [
    {
     "name": "stdout",
     "output_type": "stream",
     "text": [
      "Primitive cell:\n",
      "    Formula: CrN\n",
      "    Cell:\n",
      "        [  2.10431   2.11329   0.00000]\n",
      "        [  2.10431  -2.11329   0.00000]\n",
      "        [ -2.10431   0.00000  -2.11329]\n",
      "    Basis:\n",
      "        Cr  [  0.50000   0.50000   0.00000]\n",
      "        N   [  0.00000   0.00000   0.00000]\n",
      "\n",
      "Crystal symmetry:\n",
      "    Spacegroup:          I4/mmm (139)\n",
      "    Unique site:         2\n",
      "    Symmetry operations: 16\n",
      "    symprec:             1.00e-05\n",
      "\n",
      "Cutoffs:\n",
      "    Maximum cutoff: 4.0\n",
      "    Found 2 center atoms with 34 images totaling 36 atoms\n",
      "\n",
      "Clusters:\n",
      "    Clusters: {2: 53, 3: 352, 4: 535}\n",
      "    Total number of clusters: 940\n",
      "\n",
      "Orbits:\n",
      "    Orbits: {2: 9, 3: 22, 4: 36}\n",
      "    Total number of orbits: 67\n",
      "\n",
      "Eigentensors:\n",
      "    Eigentensors: {2: 28, 3: 220, 4: 728}\n",
      "    Total number of parameters: 976\n",
      "    Discarded orbits:\n",
      "        (0, 0, 0)\n",
      "        (1, 1, 1)\n",
      "\n",
      "Constraints:\n",
      "    Acoustic: True\n",
      "    Number of degrees of freedom: {2: 24, 3: 183, 4: 409}\n",
      "    Total number of degrees of freedom: 616\n",
      "=================== Cluster Space ====================\n",
      "Spacegroup                 : I4/mmm (139)\n",
      "symprec                    : 1e-05\n",
      "Sum rules                  : True\n",
      "Length scale               : 0.1\n",
      "Cutoffs                    :\n",
      "========== Cutoffs ===========\n",
      " body/order |  2  |  3  |  4  \n",
      "------------------------------\n",
      "     1      |  -  |  -  |  -  \n",
      "     2      | 4.0 | 4.0 | 3.0 \n",
      "     3      |  -  | 4.0 | 3.0 \n",
      "     4      |  -  |  -  | 3.0 \n",
      "==============================\n",
      "Cell                       : Cell([[2.1043093954868364, 2.113294820852644, 0.0], [2.1043093954868364, -2.113294820852644, 0.0], [-2.1043093954868364, 0.0, -2.113294820852644]])\n",
      "Basis                      : [[0.5 0.5 0. ]\n",
      " [0.  0.  0. ]]\n",
      "Numbers                    : [24  7]\n",
      "Total number of orbits     : 65\n",
      "Total number of clusters   : 370\n",
      "Total number of parameters : 616\n",
      "------------------------------------------------------\n",
      "order | n_orbits | n_clusters\n",
      "------------------------------------------------------\n",
      "  2   |      9   |      28\n",
      "  3   |     20   |     140\n",
      "  4   |     36   |     202\n",
      "======================================================\n"
     ]
    }
   ],
   "source": [
    "cs = ClusterSpace(primtive_cell, cutoffs)\n",
    "\n",
    "# Save ClusterSpace\n",
    "cs.write(setup_variables['path_to_cluster_space'])\n",
    "print(cs)"
   ]
  },
  {
   "cell_type": "code",
   "execution_count": 7,
   "id": "e1adae9b",
   "metadata": {
    "scrolled": true
   },
   "outputs": [
    {
     "name": "stdout",
     "output_type": "stream",
     "text": [
      "===================================== List of Orbits =====================================\n",
      "index | order |      elements      |  radius  |     prototype      | clusters | parameters\n",
      "------------------------------------------------------------------------------------------\n",
      "  0   |   2   |       Cr Cr        |  0.0000  |       (0, 0)       |    1     |     2     \n",
      "  1   |   2   |        Cr N        |  1.0522  |       (0, 1)       |    2     |     2     \n",
      "  2   |   2   |       Cr Cr        |  1.4912  |       (0, 2)       |    4     |     4     \n",
      "  3   |   2   |        Cr N        |  1.8276  |       (0, 3)       |    8     |     5     \n",
      "  4   |   2   |        Cr N        |  1.0566  |       (0, 5)       |    4     |     3     \n",
      "  5   |   2   |       Cr Cr        |  1.4943  |       (0, 6)       |    2     |     3     \n",
      "  6   |   2   |        N N         |  0.0000  |       (1, 1)       |    1     |     2     \n",
      "  7   |   2   |        N N         |  1.4912  |       (1, 5)       |    4     |     4     \n",
      "  8   |   2   |        N N         |  1.4943  |       (1, 7)       |    2     |     3     \n",
      "  9   |   3   |      Cr Cr N       |  0.9352  |     (0, 0, 1)      |    2     |     3     \n",
      " 10   |   3   |      Cr Cr Cr      |  1.3255  |     (0, 0, 2)      |    8     |    10     \n",
      " 11   |   3   |      Cr Cr N       |  1.6245  |     (0, 0, 3)      |    8     |    10     \n",
      " 12   |   3   |      Cr Cr N       |  0.9392  |     (0, 0, 5)      |    4     |     5     \n",
      " 13   |   3   |      Cr Cr Cr      |  1.3283  |     (0, 0, 6)      |    4     |     5     \n",
      " 14   |   3   |       Cr N N       |  0.9352  |     (0, 1, 1)      |    2     |     3     \n",
      " 15   |   3   |      Cr N Cr       |  1.3792  |     (0, 1, 2)      |    8     |    14     \n",
      " 16   |   3   |       Cr N N       |  1.3792  |     (0, 1, 5)      |    8     |    14     \n",
      " 17   |   3   |      Cr N Cr       |  1.6838  |     (0, 1, 6)      |    8     |    14     \n",
      " 18   |   3   |       Cr N N       |  1.6838  |     (0, 1, 7)      |    8     |    14     \n",
      " 19   |   3   |      Cr Cr N       |  1.6840  |     (0, 2, 5)      |    16    |    27     \n",
      " 20   |   3   |      Cr Cr Cr      |  1.7231  |     (0, 2, 6)      |    8     |    15     \n",
      " 21   |   3   |       Cr N N       |  1.6245  |     (0, 3, 3)      |    8     |    10     \n",
      " 22   |   3   |       Cr N N       |  1.6840  |     (0, 3, 5)      |    16    |    27     \n",
      " 23   |   3   |       Cr N N       |  0.9392  |     (0, 5, 5)      |    4     |     5     \n",
      " 24   |   3   |      Cr N Cr       |  1.3822  |     (0, 5, 6)      |    4     |     7     \n",
      " 25   |   3   |       Cr N N       |  1.3822  |     (0, 5, 15)     |    4     |     7     \n",
      " 26   |   3   |       N N N        |  1.3255  |     (1, 1, 5)      |    8     |    10     \n",
      " 27   |   3   |       N N N        |  1.3283  |     (1, 1, 7)      |    4     |     5     \n",
      " 28   |   3   |       N N N        |  1.7231  |     (1, 5, 7)      |    8     |    15     \n",
      " 29   |   4   |    Cr Cr Cr Cr     |  0.0000  |    (0, 0, 0, 0)    |    1     |     4     \n",
      " 30   |   4   |     Cr Cr Cr N     |  0.7891  |    (0, 0, 0, 1)    |    2     |     5     \n",
      " 31   |   4   |    Cr Cr Cr Cr     |  1.1184  |    (0, 0, 0, 2)    |    8     |    16     \n",
      " 32   |   4   |     Cr Cr Cr N     |  0.7925  |    (0, 0, 0, 5)    |    4     |     9     \n",
      " 33   |   4   |    Cr Cr Cr Cr     |  1.1207  |    (0, 0, 0, 6)    |    4     |     9     \n",
      " 34   |   4   |     Cr Cr N N      |  1.0522  |    (0, 0, 1, 1)    |    2     |     7     \n",
      " 35   |   4   |     Cr Cr N Cr     |  1.3586  |    (0, 0, 1, 2)    |    8     |    28     \n",
      " 36   |   4   |     Cr Cr N N      |  1.2064  |    (0, 0, 1, 5)    |    8     |    28     \n",
      " 37   |   4   |    Cr Cr Cr Cr     |  1.4912  |    (0, 0, 2, 2)    |    4     |    13     \n",
      " 38   |   4   |    Cr Cr Cr Cr     |  1.6335  |    (0, 0, 2, 6)    |    16    |    54     \n",
      " 39   |   4   |     Cr Cr Cr N     |  1.3601  |   (0, 0, 2, 15)    |    8     |    28     \n",
      " 40   |   4   |    Cr Cr Cr Cr     |  1.6324  |   (0, 0, 2, 19)    |    8     |    30     \n",
      " 41   |   4   |     Cr Cr N N      |  1.0566  |    (0, 0, 5, 5)    |    4     |    12     \n",
      " 42   |   4   |     Cr Cr N Cr     |  1.3623  |    (0, 0, 5, 6)    |    8     |    28     \n",
      " 43   |   4   |     Cr Cr N N      |  1.2089  |   (0, 0, 5, 15)    |    4     |    17     \n",
      " 44   |   4   |    Cr Cr Cr Cr     |  1.4943  |    (0, 0, 6, 6)    |    2     |     9     \n",
      " 45   |   4   |      Cr N N N      |  0.7891  |    (0, 1, 1, 1)    |    2     |     5     \n",
      " 46   |   4   |     Cr N N Cr      |  1.2064  |    (0, 1, 1, 2)    |    8     |    28     \n",
      " 47   |   4   |      Cr N N N      |  1.3586  |    (0, 1, 1, 5)    |    8     |    28     \n",
      " 48   |   4   |     Cr N Cr N      |  1.4912  |   (0, 1, 2, 15)    |    4     |    25     \n",
      " 49   |   4   |     Cr N Cr Cr     |  1.5408  |   (0, 1, 2, 19)    |    8     |    42     \n",
      " 50   |   4   |      Cr N N N      |  1.3601  |    (0, 1, 5, 5)    |    8     |    28     \n",
      " 51   |   4   |      Cr N N N      |  1.5408  |   (0, 1, 5, 15)    |    8     |    42     \n",
      " 52   |   4   |    Cr Cr Cr Cr     |  1.8276  |   (0, 2, 6, 21)    |    2     |    15     \n",
      " 53   |   4   |      Cr N N N      |  0.7925  |    (0, 5, 5, 5)    |    4     |     9     \n",
      " 54   |   4   |     Cr N N Cr      |  1.2089  |    (0, 5, 5, 6)    |    4     |    17     \n",
      " 55   |   4   |      Cr N N N      |  1.3623  |   (0, 5, 5, 15)    |    8     |    28     \n",
      " 56   |   4   |     Cr N Cr N      |  1.4943  |   (0, 5, 6, 15)    |    2     |    14     \n",
      " 57   |   4   |      N N N N       |  0.0000  |    (1, 1, 1, 1)    |    1     |     4     \n",
      " 58   |   4   |      N N N N       |  1.1184  |    (1, 1, 1, 5)    |    8     |    16     \n",
      " 59   |   4   |      N N N N       |  1.1207  |    (1, 1, 1, 7)    |    4     |     9     \n",
      " 60   |   4   |      N N N N       |  1.4912  |    (1, 1, 5, 5)    |    4     |    13     \n",
      " 61   |   4   |      N N N N       |  1.6335  |    (1, 1, 5, 7)    |    16    |    54     \n",
      " 62   |   4   |      N N N N       |  1.6324  |   (1, 1, 5, 15)    |    8     |    30     \n",
      " 63   |   4   |      N N N N       |  1.4943  |    (1, 1, 7, 7)    |    2     |     9     \n",
      " 64   |   4   |      N N N N       |  1.8276  |   (1, 5, 7, 15)    |    2     |    15     \n",
      "==========================================================================================\n"
     ]
    }
   ],
   "source": [
    "cs.print_orbits()"
   ]
  },
  {
   "cell_type": "markdown",
   "id": "a2d0ca05-ebaa-4610-ba8e-af9f75f1ebb7",
   "metadata": {},
   "source": [
    "Set up structure container"
   ]
  },
  {
   "cell_type": "code",
   "execution_count": 8,
   "id": "546e0844-ccf1-49b2-82bc-8ec542730eff",
   "metadata": {
    "scrolled": false
   },
   "outputs": [
    {
     "ename": "AssertionError",
     "evalue": "",
     "output_type": "error",
     "traceback": [
      "\u001b[0;31m---------------------------------------------------------------------------\u001b[0m",
      "\u001b[0;31mAssertionError\u001b[0m                            Traceback (most recent call last)",
      "Cell \u001b[0;32mIn[8], line 1\u001b[0m\n\u001b[0;32m----> 1\u001b[0m structures \u001b[38;5;241m=\u001b[39m \u001b[43mprepare_structures\u001b[49m\u001b[43m(\u001b[49m\u001b[43mrattled_structures\u001b[49m\u001b[43m,\u001b[49m\u001b[43m \u001b[49m\u001b[43msuper_cell\u001b[49m\u001b[43m)\u001b[49m\n\u001b[1;32m      2\u001b[0m sc \u001b[38;5;241m=\u001b[39m StructureContainer(cs)\n\u001b[1;32m      3\u001b[0m \u001b[38;5;28;01mfor\u001b[39;00m structure \u001b[38;5;129;01min\u001b[39;00m structures:\n",
      "File \u001b[0;32m~/.local/lib/python3.10/site-packages/hiphive/utilities.py:180\u001b[0m, in \u001b[0;36mprepare_structures\u001b[0;34m(structures, atoms_ideal, calc, check_permutation)\u001b[0m\n\u001b[1;32m    133\u001b[0m \u001b[38;5;28;01mdef\u001b[39;00m \u001b[38;5;21mprepare_structures\u001b[39m(structures: List[Atoms],\n\u001b[1;32m    134\u001b[0m                        atoms_ideal: Atoms,\n\u001b[1;32m    135\u001b[0m                        calc: SinglePointCalculator \u001b[38;5;241m=\u001b[39m \u001b[38;5;28;01mNone\u001b[39;00m,\n\u001b[1;32m    136\u001b[0m                        check_permutation: \u001b[38;5;28mbool\u001b[39m \u001b[38;5;241m=\u001b[39m \u001b[38;5;28;01mTrue\u001b[39;00m) \u001b[38;5;241m-\u001b[39m\u001b[38;5;241m>\u001b[39m List[Atoms]:\n\u001b[1;32m    137\u001b[0m \u001b[38;5;250m    \u001b[39m\u001b[38;5;124;03m\"\"\"Prepares a set of structures in the format suitable for adding them to\u001b[39;00m\n\u001b[1;32m    138\u001b[0m \u001b[38;5;124;03m    a :class:`StructureContainer <hiphive.StructureContainer>`.\u001b[39;00m\n\u001b[1;32m    139\u001b[0m \n\u001b[0;32m   (...)\u001b[0m\n\u001b[1;32m    178\u001b[0m \u001b[38;5;124;03m    list of prepared structures with forces and displacements as arrays\u001b[39;00m\n\u001b[1;32m    179\u001b[0m \u001b[38;5;124;03m    \"\"\"\u001b[39;00m\n\u001b[0;32m--> 180\u001b[0m     \u001b[38;5;28;01mreturn\u001b[39;00m [prepare_structure(s, atoms_ideal, calc, check_permutation) \u001b[38;5;28;01mfor\u001b[39;00m s \u001b[38;5;129;01min\u001b[39;00m structures]\n",
      "File \u001b[0;32m~/.local/lib/python3.10/site-packages/hiphive/utilities.py:180\u001b[0m, in \u001b[0;36m<listcomp>\u001b[0;34m(.0)\u001b[0m\n\u001b[1;32m    133\u001b[0m \u001b[38;5;28;01mdef\u001b[39;00m \u001b[38;5;21mprepare_structures\u001b[39m(structures: List[Atoms],\n\u001b[1;32m    134\u001b[0m                        atoms_ideal: Atoms,\n\u001b[1;32m    135\u001b[0m                        calc: SinglePointCalculator \u001b[38;5;241m=\u001b[39m \u001b[38;5;28;01mNone\u001b[39;00m,\n\u001b[1;32m    136\u001b[0m                        check_permutation: \u001b[38;5;28mbool\u001b[39m \u001b[38;5;241m=\u001b[39m \u001b[38;5;28;01mTrue\u001b[39;00m) \u001b[38;5;241m-\u001b[39m\u001b[38;5;241m>\u001b[39m List[Atoms]:\n\u001b[1;32m    137\u001b[0m \u001b[38;5;250m    \u001b[39m\u001b[38;5;124;03m\"\"\"Prepares a set of structures in the format suitable for adding them to\u001b[39;00m\n\u001b[1;32m    138\u001b[0m \u001b[38;5;124;03m    a :class:`StructureContainer <hiphive.StructureContainer>`.\u001b[39;00m\n\u001b[1;32m    139\u001b[0m \n\u001b[0;32m   (...)\u001b[0m\n\u001b[1;32m    178\u001b[0m \u001b[38;5;124;03m    list of prepared structures with forces and displacements as arrays\u001b[39;00m\n\u001b[1;32m    179\u001b[0m \u001b[38;5;124;03m    \"\"\"\u001b[39;00m\n\u001b[0;32m--> 180\u001b[0m     \u001b[38;5;28;01mreturn\u001b[39;00m [\u001b[43mprepare_structure\u001b[49m\u001b[43m(\u001b[49m\u001b[43ms\u001b[49m\u001b[43m,\u001b[49m\u001b[43m \u001b[49m\u001b[43matoms_ideal\u001b[49m\u001b[43m,\u001b[49m\u001b[43m \u001b[49m\u001b[43mcalc\u001b[49m\u001b[43m,\u001b[49m\u001b[43m \u001b[49m\u001b[43mcheck_permutation\u001b[49m\u001b[43m)\u001b[49m \u001b[38;5;28;01mfor\u001b[39;00m s \u001b[38;5;129;01min\u001b[39;00m structures]\n",
      "File \u001b[0;32m~/.local/lib/python3.10/site-packages/hiphive/utilities.py:120\u001b[0m, in \u001b[0;36mprepare_structure\u001b[0;34m(atoms, atoms_ideal, calc, check_permutation)\u001b[0m\n\u001b[1;32m    118\u001b[0m \u001b[38;5;66;03m# setup new atoms\u001b[39;00m\n\u001b[1;32m    119\u001b[0m \u001b[38;5;28;01mif\u001b[39;00m check_permutation:\n\u001b[0;32m--> 120\u001b[0m     perm \u001b[38;5;241m=\u001b[39m \u001b[43mfind_permutation\u001b[49m\u001b[43m(\u001b[49m\u001b[43matoms\u001b[49m\u001b[43m,\u001b[49m\u001b[43m \u001b[49m\u001b[43matoms_ideal\u001b[49m\u001b[43m)\u001b[49m\n\u001b[1;32m    121\u001b[0m \u001b[38;5;28;01melse\u001b[39;00m:\n\u001b[1;32m    122\u001b[0m     perm \u001b[38;5;241m=\u001b[39m np\u001b[38;5;241m.\u001b[39marray([f \u001b[38;5;28;01mfor\u001b[39;00m f \u001b[38;5;129;01min\u001b[39;00m \u001b[38;5;28mrange\u001b[39m(\u001b[38;5;28mlen\u001b[39m(atoms))])\n",
      "File \u001b[0;32m~/.local/lib/python3.10/site-packages/hiphive/utilities.py:200\u001b[0m, in \u001b[0;36mfind_permutation\u001b[0;34m(atoms, atoms_ref)\u001b[0m\n\u001b[1;32m    183\u001b[0m \u001b[38;5;28;01mdef\u001b[39;00m \u001b[38;5;21mfind_permutation\u001b[39m(atoms: Atoms, atoms_ref: Atoms) \u001b[38;5;241m-\u001b[39m\u001b[38;5;241m>\u001b[39m List[\u001b[38;5;28mint\u001b[39m]:\n\u001b[1;32m    184\u001b[0m \u001b[38;5;250m    \u001b[39m\u001b[38;5;124;03m\"\"\" Returns the best permutation of atoms for mapping one\u001b[39;00m\n\u001b[1;32m    185\u001b[0m \u001b[38;5;124;03m    configuration onto another.\u001b[39;00m\n\u001b[1;32m    186\u001b[0m \n\u001b[0;32m   (...)\u001b[0m\n\u001b[1;32m    198\u001b[0m \u001b[38;5;124;03m    to ``atoms2``.\u001b[39;00m\n\u001b[1;32m    199\u001b[0m \u001b[38;5;124;03m    \"\"\"\u001b[39;00m\n\u001b[0;32m--> 200\u001b[0m     \u001b[38;5;28;01massert\u001b[39;00m np\u001b[38;5;241m.\u001b[39mlinalg\u001b[38;5;241m.\u001b[39mnorm(atoms\u001b[38;5;241m.\u001b[39mcell \u001b[38;5;241m-\u001b[39m atoms_ref\u001b[38;5;241m.\u001b[39mcell) \u001b[38;5;241m<\u001b[39m \u001b[38;5;241m1e-6\u001b[39m\n\u001b[1;32m    201\u001b[0m     permutation \u001b[38;5;241m=\u001b[39m []\n\u001b[1;32m    202\u001b[0m     \u001b[38;5;28;01mfor\u001b[39;00m i \u001b[38;5;129;01min\u001b[39;00m \u001b[38;5;28mrange\u001b[39m(\u001b[38;5;28mlen\u001b[39m(atoms_ref)):\n",
      "\u001b[0;31mAssertionError\u001b[0m: "
     ]
    }
   ],
   "source": [
    "structures = prepare_structures(rattled_structures, super_cell)\n",
    "sc = StructureContainer(cs)\n",
    "for structure in structures:\n",
    "    sc.add_structure(structure)\n",
    "\n",
    "# Save StructureContainer\n",
    "sc.write(setup_variables['path_to_structure_container'])\n",
    "print(sc)"
   ]
  },
  {
   "cell_type": "markdown",
   "id": "a291948e-8b97-476a-81f3-8d396ff94e29",
   "metadata": {},
   "source": [
    "Train the model"
   ]
  },
  {
   "cell_type": "code",
   "execution_count": null,
   "id": "62fc812a-0bbe-42c1-844f-7f6f4a6f948e",
   "metadata": {},
   "outputs": [],
   "source": [
    "opt = Optimizer(sc.get_fit_data())\n",
    "opt.train()\n",
    "print(opt)"
   ]
  },
  {
   "cell_type": "markdown",
   "id": "812cfbe1-d3e2-4058-b1e8-a4700896632a",
   "metadata": {},
   "source": [
    "Construct force constant potential"
   ]
  },
  {
   "cell_type": "code",
   "execution_count": null,
   "id": "cd0341b6-cc1b-498e-b419-a5ef5ddcc4cc",
   "metadata": {},
   "outputs": [],
   "source": [
    "fcp = ForceConstantPotential(cs, opt.parameters)\n",
    "\n",
    "# Save ForceConstantPotential\n",
    "fcp.write(setup_variables['path_to_fcp'])\n",
    "print(fcp)"
   ]
  }
 ],
 "metadata": {
  "kernelspec": {
   "display_name": "Python 3 (ipykernel)",
   "language": "python",
   "name": "python3"
  },
  "language_info": {
   "codemirror_mode": {
    "name": "ipython",
    "version": 3
   },
   "file_extension": ".py",
   "mimetype": "text/x-python",
   "name": "python",
   "nbconvert_exporter": "python",
   "pygments_lexer": "ipython3",
   "version": "3.11.1"
  }
 },
 "nbformat": 4,
 "nbformat_minor": 5
}
