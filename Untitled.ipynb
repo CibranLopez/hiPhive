{
 "cells": [
  {
   "cell_type": "code",
   "execution_count": null,
   "id": "1eaebded-3274-4055-853a-42b71333e0c2",
   "metadata": {},
   "outputs": [],
   "source": [
    "from ase import Atoms\n",
    "from ase.io.extxyz import write_extxyz\n",
    "import xml.etree.ElementTree as ET\n",
    "\n",
    "# Parse XML file\n",
    "tree = ET.parse('your_input.xml')\n",
    "root = tree.getroot()\n",
    "\n",
    "# Extract atomic positions and element types\n",
    "positions = []\n",
    "symbols = []\n",
    "\n",
    "for atom in root.iter('atom'):\n",
    "    x = float(atom.find('x').text)\n",
    "    y = float(atom.find('y').text)\n",
    "    z = float(atom.find('z').text)\n",
    "    element = atom.find('element').text\n",
    "    positions.append([x, y, z])\n",
    "    symbols.append(element)\n",
    "\n",
    "# Create ASE Atoms object\n",
    "atoms = Atoms(symbols=symbols, positions=positions)\n",
    "\n",
    "# Write to extxyz file\n",
    "write_extxyz('output.extxyz', atoms)\n"
   ]
  },
  {
   "cell_type": "code",
   "execution_count": 8,
   "id": "f4dfc003-1c83-415a-8392-c8b3f9d4de22",
   "metadata": {},
   "outputs": [],
   "source": [
    "import ase.io.vasp\n",
    "file = ase.io.vasp.read_vasp_xml('disp-0007/vasprun.xml')"
   ]
  },
  {
   "cell_type": "code",
   "execution_count": 9,
   "id": "a1f56de7-4486-4d87-8497-0919a3a6e320",
   "metadata": {},
   "outputs": [
    {
     "ename": "FileNotFoundError",
     "evalue": "[Errno 2] No such file or directory: 'disp-0007/vasprun.xml'",
     "output_type": "error",
     "traceback": [
      "\u001b[0;31m---------------------------------------------------------------------------\u001b[0m",
      "\u001b[0;31mFileNotFoundError\u001b[0m                         Traceback (most recent call last)",
      "Cell \u001b[0;32mIn[9], line 2\u001b[0m\n\u001b[1;32m      1\u001b[0m \u001b[38;5;28;01mfrom\u001b[39;00m \u001b[38;5;21;01mase\u001b[39;00m\u001b[38;5;21;01m.\u001b[39;00m\u001b[38;5;21;01mio\u001b[39;00m\u001b[38;5;21;01m.\u001b[39;00m\u001b[38;5;21;01mextxyz\u001b[39;00m \u001b[38;5;28;01mimport\u001b[39;00m write_extxyz\n\u001b[0;32m----> 2\u001b[0m \u001b[43mwrite_extxyz\u001b[49m\u001b[43m(\u001b[49m\u001b[38;5;124;43m'\u001b[39;49m\u001b[38;5;124;43moutput.extxyz\u001b[39;49m\u001b[38;5;124;43m'\u001b[39;49m\u001b[43m,\u001b[49m\u001b[43m \u001b[49m\u001b[43mfile\u001b[49m\u001b[43m)\u001b[49m\n",
      "File \u001b[0;32m~/.local/lib/python3.10/site-packages/ase/io/extxyz.py:875\u001b[0m, in \u001b[0;36mwrite_xyz\u001b[0;34m(fileobj, images, comment, columns, write_info, write_results, plain, vec_cell, append)\u001b[0m\n\u001b[1;32m    872\u001b[0m \u001b[38;5;28;01mif\u001b[39;00m \u001b[38;5;28mhasattr\u001b[39m(images, \u001b[38;5;124m'\u001b[39m\u001b[38;5;124mget_positions\u001b[39m\u001b[38;5;124m'\u001b[39m):\n\u001b[1;32m    873\u001b[0m     images \u001b[38;5;241m=\u001b[39m [images]\n\u001b[0;32m--> 875\u001b[0m \u001b[38;5;28;01mfor\u001b[39;00m atoms \u001b[38;5;129;01min\u001b[39;00m images:\n\u001b[1;32m    876\u001b[0m     natoms \u001b[38;5;241m=\u001b[39m \u001b[38;5;28mlen\u001b[39m(atoms)\n\u001b[1;32m    878\u001b[0m     \u001b[38;5;28;01mif\u001b[39;00m columns \u001b[38;5;129;01mis\u001b[39;00m \u001b[38;5;28;01mNone\u001b[39;00m:\n",
      "File \u001b[0;32m~/.local/lib/python3.10/site-packages/ase/io/vasp.py:375\u001b[0m, in \u001b[0;36mread_vasp_xml\u001b[0;34m(filename, index)\u001b[0m\n\u001b[1;32m    372\u001b[0m \u001b[38;5;28;01mfrom\u001b[39;00m \u001b[38;5;21;01mase\u001b[39;00m\u001b[38;5;21;01m.\u001b[39;00m\u001b[38;5;21;01munits\u001b[39;00m \u001b[38;5;28;01mimport\u001b[39;00m GPa\n\u001b[1;32m    373\u001b[0m \u001b[38;5;28;01mfrom\u001b[39;00m \u001b[38;5;21;01mcollections\u001b[39;00m \u001b[38;5;28;01mimport\u001b[39;00m OrderedDict\n\u001b[0;32m--> 375\u001b[0m tree \u001b[38;5;241m=\u001b[39m \u001b[43mET\u001b[49m\u001b[38;5;241;43m.\u001b[39;49m\u001b[43miterparse\u001b[49m\u001b[43m(\u001b[49m\u001b[43mfilename\u001b[49m\u001b[43m,\u001b[49m\u001b[43m \u001b[49m\u001b[43mevents\u001b[49m\u001b[38;5;241;43m=\u001b[39;49m\u001b[43m[\u001b[49m\u001b[38;5;124;43m'\u001b[39;49m\u001b[38;5;124;43mstart\u001b[39;49m\u001b[38;5;124;43m'\u001b[39;49m\u001b[43m,\u001b[49m\u001b[43m \u001b[49m\u001b[38;5;124;43m'\u001b[39;49m\u001b[38;5;124;43mend\u001b[39;49m\u001b[38;5;124;43m'\u001b[39;49m\u001b[43m]\u001b[49m\u001b[43m)\u001b[49m\n\u001b[1;32m    377\u001b[0m atoms_init \u001b[38;5;241m=\u001b[39m \u001b[38;5;28;01mNone\u001b[39;00m\n\u001b[1;32m    378\u001b[0m calculation \u001b[38;5;241m=\u001b[39m []\n",
      "File \u001b[0;32m/usr/lib/python3.10/xml/etree/ElementTree.py:1272\u001b[0m, in \u001b[0;36miterparse\u001b[0;34m(source, events, parser)\u001b[0m\n\u001b[1;32m   1269\u001b[0m it\u001b[38;5;241m.\u001b[39mroot \u001b[38;5;241m=\u001b[39m \u001b[38;5;28;01mNone\u001b[39;00m\n\u001b[1;32m   1270\u001b[0m \u001b[38;5;28;01mdel\u001b[39;00m iterator, IterParseIterator\n\u001b[0;32m-> 1272\u001b[0m \u001b[38;5;28;43mnext\u001b[39;49m\u001b[43m(\u001b[49m\u001b[43mit\u001b[49m\u001b[43m)\u001b[49m\n\u001b[1;32m   1273\u001b[0m \u001b[38;5;28;01mreturn\u001b[39;00m it\n",
      "File \u001b[0;32m/usr/lib/python3.10/xml/etree/ElementTree.py:1249\u001b[0m, in \u001b[0;36miterparse.<locals>.iterator\u001b[0;34m(source)\u001b[0m\n\u001b[1;32m   1247\u001b[0m \u001b[38;5;28;01mtry\u001b[39;00m:\n\u001b[1;32m   1248\u001b[0m     \u001b[38;5;28;01mif\u001b[39;00m \u001b[38;5;129;01mnot\u001b[39;00m \u001b[38;5;28mhasattr\u001b[39m(source, \u001b[38;5;124m\"\u001b[39m\u001b[38;5;124mread\u001b[39m\u001b[38;5;124m\"\u001b[39m):\n\u001b[0;32m-> 1249\u001b[0m         source \u001b[38;5;241m=\u001b[39m \u001b[38;5;28;43mopen\u001b[39;49m\u001b[43m(\u001b[49m\u001b[43msource\u001b[49m\u001b[43m,\u001b[49m\u001b[43m \u001b[49m\u001b[38;5;124;43m\"\u001b[39;49m\u001b[38;5;124;43mrb\u001b[39;49m\u001b[38;5;124;43m\"\u001b[39;49m\u001b[43m)\u001b[49m\n\u001b[1;32m   1250\u001b[0m         close_source \u001b[38;5;241m=\u001b[39m \u001b[38;5;28;01mTrue\u001b[39;00m\n\u001b[1;32m   1251\u001b[0m     \u001b[38;5;28;01myield\u001b[39;00m \u001b[38;5;28;01mNone\u001b[39;00m\n",
      "\u001b[0;31mFileNotFoundError\u001b[0m: [Errno 2] No such file or directory: 'disp-0007/vasprun.xml'"
     ]
    }
   ],
   "source": [
    "from ase.io.extxyz import write_extxyz\n",
    "write_extxyz('output.extxyz', file)"
   ]
  },
  {
   "cell_type": "code",
   "execution_count": null,
   "id": "9c0bd7c9-baa1-4b40-afdf-1acdb11b1234",
   "metadata": {},
   "outputs": [],
   "source": []
  },
  {
   "cell_type": "code",
   "execution_count": null,
   "id": "d04f8645-493d-47a8-8b1d-67eb47beff98",
   "metadata": {},
   "outputs": [],
   "source": []
  },
  {
   "cell_type": "code",
   "execution_count": null,
   "id": "8c5e05fd-b48c-4ca7-a9d8-ef87da1d4a77",
   "metadata": {},
   "outputs": [],
   "source": []
  },
  {
   "cell_type": "code",
   "execution_count": null,
   "id": "ac8e31d8-273c-4354-9aab-b82663ff9743",
   "metadata": {},
   "outputs": [],
   "source": [
    "\"\"\"\n",
    "Construct a ForceConstantPotential from training data generated previously.\n",
    "\n",
    "Runs in approximately 100 seconds on an Intel Core i5-4670K CPU.\n",
    "\"\"\""
   ]
  },
  {
   "cell_type": "code",
   "execution_count": 10,
   "id": "23cb0d91-e113-4707-a01f-172427e4e1d4",
   "metadata": {},
   "outputs": [],
   "source": [
    "import ase.io\n",
    "import os\n",
    "from ase.io import read,write\n",
    "from ase.io import vasp\n",
    "from hiphive import ClusterSpace, StructureContainer, ForceConstantPotential\n",
    "from hiphive.utilities import prepare_structures,get_displacements\n",
    "from trainstation import Optimizer\n",
    "from ase.calculators.vasp import Vasp\n",
    "from ase.io.vasp import read_vasp,write_vasp"
   ]
  },
  {
   "cell_type": "markdown",
   "id": "126feb2b-7c14-47e0-9088-2d90928a0242",
   "metadata": {},
   "source": [
    "Read structures containing displacements and forces"
   ]
  },
  {
   "cell_type": "code",
   "execution_count": 17,
   "id": "1ed484a6-2908-4fec-8ebb-502cabac4d43",
   "metadata": {},
   "outputs": [],
   "source": [
    "path_to_primtive_cell = ''\n",
    "path_to_super_cell    = ''\n",
    "path_to_relaxations   = '.'"
   ]
  },
  {
   "cell_type": "code",
   "execution_count": null,
   "id": "af0aa742-96d8-4209-8efc-e0037bbd7dde",
   "metadata": {},
   "outputs": [],
   "source": []
  },
  {
   "cell_type": "code",
   "execution_count": 21,
   "id": "3745a06c-f7b4-4659-8a02-843facb562d5",
   "metadata": {},
   "outputs": [
    {
     "name": "stdout",
     "output_type": "stream",
     "text": [
      "disp-0007/vasprun.xml\n",
      "[Atoms(symbols='Cr32N32', pbc=True, cell=[8.45911508, 8.49523559, 8.49523559], calculator=SinglePointDFTCalculator(...))]\n"
     ]
    }
   ],
   "source": [
    "#primtive_cell = read_vasp(path_to_primtive_cell)\n",
    "#super_cell    = read_vasp(path_to_super_cell)\n",
    "\n",
    "vaspruns = []\n",
    "for folder in os.listdir(path_to_relaxations):\n",
    "    print(folder)\n",
    "    path_to_vasprun = f'{folder}/vasprun.xml.gz'\n",
    "    \n",
    "    # Read vasprun\n",
    "    if os.path.exists(path_to_vasprun):\n",
    "        # Read xml file with forces\n",
    "        temp_vasprun = ase.io.read(path_to_vasprun)\n",
    "\n",
    "        # Append to main list\n",
    "        vaspruns.append(temp_vasprun)\n",
    "print(vaspruns)"
   ]
  },
  {
   "cell_type": "markdown",
   "id": "1ad6e2ee-740d-435f-85cf-6c2e606d22ee",
   "metadata": {},
   "source": [
    "Set up cluster space"
   ]
  },
  {
   "cell_type": "code",
   "execution_count": null,
   "id": "07cb9676-7bf3-4351-b07a-dcbea69ae6a1",
   "metadata": {},
   "outputs": [],
   "source": [
    "cutoffs = [8.0, 3.0]\n",
    "cs = ClusterSpace(prim, cutoffs)\n",
    "print(cs)\n",
    "cs.print_orbits()\n",
    "for atoms in value:\n"
   ]
  },
  {
   "cell_type": "markdown",
   "id": "a2d0ca05-ebaa-4610-ba8e-af9f75f1ebb7",
   "metadata": {},
   "source": [
    "Set up structure container"
   ]
  },
  {
   "cell_type": "code",
   "execution_count": null,
   "id": "546e0844-ccf1-49b2-82bc-8ec542730eff",
   "metadata": {},
   "outputs": [],
   "source": [
    "structures = prepare_structures(value, atom_ideal)\n",
    "sc = StructureContainer(cs)\n",
    "for structure in structures:\n",
    "    sc.add_structure(structures)\n",
    "print(sc)"
   ]
  },
  {
   "cell_type": "markdown",
   "id": "a291948e-8b97-476a-81f3-8d396ff94e29",
   "metadata": {},
   "source": [
    "Train the model"
   ]
  },
  {
   "cell_type": "code",
   "execution_count": null,
   "id": "62fc812a-0bbe-42c1-844f-7f6f4a6f948e",
   "metadata": {},
   "outputs": [],
   "source": [
    "opt = Optimizer(sc.get_fit_data())\n",
    "opt.train()\n",
    "print(opt)"
   ]
  },
  {
   "cell_type": "markdown",
   "id": "812cfbe1-d3e2-4058-b1e8-a4700896632a",
   "metadata": {},
   "source": [
    "Construct force constant potential"
   ]
  },
  {
   "cell_type": "code",
   "execution_count": null,
   "id": "cd0341b6-cc1b-498e-b419-a5ef5ddcc4cc",
   "metadata": {},
   "outputs": [],
   "source": [
    "fcp = ForceConstantPotential(cs, opt.parameters)\n",
    "fcp.write(‘SnS.fcp’)\n",
    "print(fcp)"
   ]
  }
 ],
 "metadata": {
  "kernelspec": {
   "display_name": "Python 3 (ipykernel)",
   "language": "python",
   "name": "python3"
  },
  "language_info": {
   "codemirror_mode": {
    "name": "ipython",
    "version": 3
   },
   "file_extension": ".py",
   "mimetype": "text/x-python",
   "name": "python",
   "nbconvert_exporter": "python",
   "pygments_lexer": "ipython3",
   "version": "3.10.12"
  }
 },
 "nbformat": 4,
 "nbformat_minor": 5
}
