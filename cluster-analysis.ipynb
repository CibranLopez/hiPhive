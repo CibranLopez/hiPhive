{
 "cells": [
  {
   "cell_type": "markdown",
   "id": "59ea2591",
   "metadata": {},
   "source": [
    "# Cluster analysis"
   ]
  },
  {
   "cell_type": "markdown",
   "id": "0bb1d52f",
   "metadata": {},
   "source": [
    "Basic example showing how to carry out an analysis of the ClusterSpace."
   ]
  },
  {
   "cell_type": "code",
   "execution_count": null,
   "id": "3cf574f4",
   "metadata": {},
   "outputs": [],
   "source": [
    "import json\n",
    "import numpy             as np\n",
    "import pandas            as pd\n",
    "import matplotlib.pyplot as plt\n",
    "\n",
    "from ase.build import bulk\n",
    "from hiphive   import ClusterSpace"
   ]
  },
  {
   "cell_type": "code",
   "execution_count": null,
   "id": "4579ea05",
   "metadata": {},
   "outputs": [],
   "source": [
    "# Read the file in JSON format to a dictionary\n",
    "with open(f'setup_variables.json', 'r') as json_file:\n",
    "    setup_variables = json.load(json_file)"
   ]
  },
  {
   "cell_type": "code",
   "execution_count": null,
   "id": "402b1f0f",
   "metadata": {},
   "outputs": [],
   "source": [
    "# Setup\n",
    "tol         = 1e-4\n",
    "fontsize    = 14\n",
    "max_cutoffs = [10, 10, 7]"
   ]
  },
  {
   "cell_type": "code",
   "execution_count": null,
   "id": "01214a71",
   "metadata": {},
   "outputs": [],
   "source": [
    "# Load cluster space\n",
    "cs = ClusterSpace.read(setup_variables['path_to_cluster_space'])\n",
    "df = pd.DataFrame(cs.orbit_data)"
   ]
  },
  {
   "cell_type": "markdown",
   "id": "9db1c751",
   "metadata": {},
   "source": [
    "### Collect number of orbits, clusters and parameters"
   ]
  },
  {
   "cell_type": "code",
   "execution_count": null,
   "id": "6a4a7ae0",
   "metadata": {},
   "outputs": [],
   "source": [
    "parameter_data = {}\n",
    "for order in cs.cutoffs.orders:\n",
    "    parameter_data[order] = []\n",
    "    cutoffs = sorted(set(df.loc[df.order == order, 'maximum_distance']))\n",
    "    for cutoff in cutoffs:\n",
    "        selection = f'maximum_distance < {cutoff+tol} and order == {order}'\n",
    "        sub_orbits = df.query(selection)\n",
    "        num_orbits = len(sub_orbits)\n",
    "        num_clusters = sub_orbits.n_clusters.sum()\n",
    "        num_params = sub_orbits.n_parameters.sum()\n",
    "        parameter_data[order].append(\n",
    "            [cutoff, num_orbits, num_clusters, num_params])\n",
    "    parameter_data[order] = np.array(parameter_data[order])"
   ]
  },
  {
   "cell_type": "markdown",
   "id": "84e0d7fa",
   "metadata": {},
   "source": [
    "### Plot results"
   ]
  },
  {
   "cell_type": "code",
   "execution_count": null,
   "id": "440ffba5",
   "metadata": {},
   "outputs": [],
   "source": [
    "lw = 2\n",
    "ms = 9\n",
    "fig = plt.figure(figsize=(14, 4))\n",
    "ax1 = fig.add_subplot(1, 3, 1)\n",
    "ax2 = fig.add_subplot(1, 3, 2)\n",
    "ax3 = fig.add_subplot(1, 3, 3)\n",
    "for i, ax in enumerate([ax1, ax2, ax3], start=1):\n",
    "    for order, data in parameter_data.items():\n",
    "        ax.semilogy(data[:, 0], data[:, i], '-o', ms=ms, lw=lw, label=order)\n",
    "    ax.legend(loc=2, title='Order', fontsize=fontsize)\n",
    "    ax.set_xlim([0.0, np.max(max_cutoffs)])\n",
    "    ax.set_ylim(bottom=0.9)\n",
    "    ax.set_xlabel('Cutoff (A)', fontsize=fontsize)\n",
    "    ax.tick_params(labelsize=fs)\n",
    "\n",
    "ax1.set_ylabel('Number of orbits',     fontsize=fontsize)\n",
    "ax2.set_ylabel('Number of clusters',   fontsize=fontsize)\n",
    "ax3.set_ylabel('Number of parameters', fontsize=fontsize)\n",
    "plt.savefig('clusters.eps', dpi=50, bbox_inches='tight')"
   ]
  }
 ],
 "metadata": {
  "kernelspec": {
   "display_name": "Python 3 (ipykernel)",
   "language": "python",
   "name": "python3"
  },
  "language_info": {
   "codemirror_mode": {
    "name": "ipython",
    "version": 3
   },
   "file_extension": ".py",
   "mimetype": "text/x-python",
   "name": "python",
   "nbconvert_exporter": "python",
   "pygments_lexer": "ipython3",
   "version": "3.10.12"
  }
 },
 "nbformat": 4,
 "nbformat_minor": 5
}
