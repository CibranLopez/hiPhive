{
 "cells": [
  {
   "cell_type": "code",
   "execution_count": 1,
   "id": "23cb0d91-e113-4707-a01f-172427e4e1d4",
   "metadata": {},
   "outputs": [],
   "source": [
    "import json\n",
    "import os\n",
    "import ase.io\n",
    "\n",
    "from ase.io                       import write\n",
    "from ase.io.vasp                  import read_vasp\n",
    "from ase.build                    import bulk, sort\n",
    "from ase.calculators.emt          import EMT\n",
    "from hiphive.structure_generation import generate_mc_rattled_structures"
   ]
  },
  {
   "cell_type": "markdown",
   "id": "126feb2b-7c14-47e0-9088-2d90928a0242",
   "metadata": {},
   "source": [
    "Read structures containing displacements and forces"
   ]
  },
  {
   "cell_type": "code",
   "execution_count": 16,
   "id": "dbafdfb3",
   "metadata": {},
   "outputs": [],
   "source": [
    "#root_path = f'data/CrN-riccardo-slightly-distorted/PM/SC_2x2x2_Vol_76.69'\n",
    "#root_path = f'data/CrN-riccardo-slightly-distorted/PM/SC_2x2x2_Vol_76.31'\n",
    "#root_path = f'data/CrN-riccardo-slightly-distorted/PM/SC_2x2x2_Vol_75.93'\n",
    "#root_path = f'data/CrN-riccardo-slightly-distorted/PM/SC_2x2x2_Vol_75.56'\n",
    "#root_path = f'data/CrN-riccardo-slightly-distorted/PM/SC_2x2x2_Vol_75.18'\n",
    "\n",
    "#root_path = f'data/CrN-riccardo-slightly-distorted/AFM/SC_2x3x2_Vol_74.90'\n",
    "root_path = f'data/CrN-riccardo-slightly-distorted/AFM/SC_2x3x2_Vol_75.27'\n",
    "#root_path = f'data/CrN-riccardo-slightly-distorted/AFM/SC_2x3x2_Vol_75.64'\n",
    "#root_path = f'data/CrN-riccardo-slightly-distorted/AFM/SC_2x3x2_Vol_76.02'\n",
    "#root_path = f'data/CrN-riccardo-slightly-distorted/AFM/SC_2x3x2_Vol_76.39'\n",
    "\n",
    "# Parameters\n",
    "n_structures     = 500\n",
    "rattle_std       = 0.01  # 0.03\n",
    "minimum_distance = 1.9\n",
    "cell_size        = [2, 2, 2]\n",
    "\n",
    "# Create and save as a dictionary\n",
    "setup_variables = {\n",
    "    'root_path':        root_path,\n",
    "    'n_structures':     n_structures,\n",
    "    'rattle_std':       rattle_std,\n",
    "    'minimum_distance': minimum_distance,\n",
    "    'cell_size':        cell_size\n",
    "}\n",
    "\n",
    "# Write the dictionary to the file in JSON format\n",
    "with open(f'{root_path}/structure_generation_variables.json', 'w') as json_file:\n",
    "    json.dump(setup_variables, json_file)"
   ]
  },
  {
   "cell_type": "code",
   "execution_count": 17,
   "id": "c90d1ea9",
   "metadata": {},
   "outputs": [
    {
     "ename": "Exception",
     "evalue": "Exceeded the maximum number of attempts for atom 0",
     "output_type": "error",
     "traceback": [
      "\u001b[0;31m---------------------------------------------------------------------------\u001b[0m",
      "\u001b[0;31mException\u001b[0m                                 Traceback (most recent call last)",
      "Cell \u001b[0;32mIn[17], line 6\u001b[0m\n\u001b[1;32m      3\u001b[0m atoms_ideal \u001b[38;5;241m=\u001b[39m prim\u001b[38;5;241m.\u001b[39mrepeat(cell_size)\n\u001b[1;32m      5\u001b[0m \u001b[38;5;66;03m# Generate the structures\u001b[39;00m\n\u001b[0;32m----> 6\u001b[0m structures \u001b[38;5;241m=\u001b[39m \u001b[43mgenerate_mc_rattled_structures\u001b[49m\u001b[43m(\u001b[49m\u001b[43matoms_ideal\u001b[49m\u001b[43m,\u001b[49m\u001b[43m \u001b[49m\u001b[43mn_structures\u001b[49m\u001b[43m,\u001b[49m\u001b[43m \u001b[49m\u001b[43mrattle_std\u001b[49m\u001b[43m,\u001b[49m\u001b[43m \u001b[49m\u001b[43mminimum_distance\u001b[49m\u001b[43m,\u001b[49m\n\u001b[1;32m      7\u001b[0m \u001b[43m                                           \u001b[49m\u001b[43mseed\u001b[49m\u001b[38;5;241;43m=\u001b[39;49m\u001b[38;5;241;43m1234\u001b[39;49m\u001b[43m)\u001b[49m\n",
      "File \u001b[0;32m/Library/Frameworks/Python.framework/Versions/3.11/lib/python3.11/site-packages/hiphive/structure_generation/rattle.py:112\u001b[0m, in \u001b[0;36mgenerate_mc_rattled_structures\u001b[0;34m(atoms, n_structures, rattle_std, d_min, seed, **kwargs)\u001b[0m\n\u001b[1;32m    110\u001b[0m atoms_tmp \u001b[38;5;241m=\u001b[39m atoms\u001b[38;5;241m.\u001b[39mcopy()\n\u001b[1;32m    111\u001b[0m seed \u001b[38;5;241m=\u001b[39m rs\u001b[38;5;241m.\u001b[39mrandint(\u001b[38;5;241m1\u001b[39m, \u001b[38;5;241m1000000000\u001b[39m)\n\u001b[0;32m--> 112\u001b[0m displacements \u001b[38;5;241m=\u001b[39m \u001b[43mmc_rattle\u001b[49m\u001b[43m(\u001b[49m\u001b[43matoms_tmp\u001b[49m\u001b[43m,\u001b[49m\u001b[43m \u001b[49m\u001b[43mrattle_std\u001b[49m\u001b[43m,\u001b[49m\u001b[43m \u001b[49m\u001b[43md_min\u001b[49m\u001b[43m,\u001b[49m\u001b[43m \u001b[49m\u001b[43mseed\u001b[49m\u001b[38;5;241;43m=\u001b[39;49m\u001b[43mseed\u001b[49m\u001b[43m,\u001b[49m\u001b[43m \u001b[49m\u001b[38;5;241;43m*\u001b[39;49m\u001b[38;5;241;43m*\u001b[39;49m\u001b[43mkwargs\u001b[49m\u001b[43m)\u001b[49m\n\u001b[1;32m    113\u001b[0m atoms_tmp\u001b[38;5;241m.\u001b[39mpositions \u001b[38;5;241m+\u001b[39m\u001b[38;5;241m=\u001b[39m displacements\n\u001b[1;32m    114\u001b[0m atoms_list\u001b[38;5;241m.\u001b[39mappend(atoms_tmp)\n",
      "File \u001b[0;32m/Library/Frameworks/Python.framework/Versions/3.11/lib/python3.11/site-packages/hiphive/structure_generation/rattle.py:217\u001b[0m, in \u001b[0;36mmc_rattle\u001b[0;34m(atoms, rattle_std, d_min, width, n_iter, max_attempts, max_disp, active_atoms, nbr_cutoff, seed)\u001b[0m\n\u001b[1;32m    215\u001b[0m                 atoms_rattle[i]\u001b[38;5;241m.\u001b[39mposition \u001b[38;5;241m-\u001b[39m\u001b[38;5;241m=\u001b[39m delta_disp\n\u001b[1;32m    216\u001b[0m         \u001b[38;5;28;01melse\u001b[39;00m:\n\u001b[0;32m--> 217\u001b[0m             \u001b[38;5;28;01mraise\u001b[39;00m \u001b[38;5;167;01mException\u001b[39;00m(\u001b[38;5;124mf\u001b[39m\u001b[38;5;124m'\u001b[39m\u001b[38;5;124mExceeded the maximum number of attempts for atom \u001b[39m\u001b[38;5;132;01m{\u001b[39;00mi\u001b[38;5;132;01m}\u001b[39;00m\u001b[38;5;124m'\u001b[39m)\n\u001b[1;32m    218\u001b[0m displacements \u001b[38;5;241m=\u001b[39m atoms_rattle\u001b[38;5;241m.\u001b[39mpositions \u001b[38;5;241m-\u001b[39m reference_positions\n\u001b[1;32m    219\u001b[0m \u001b[38;5;28;01mreturn\u001b[39;00m displacements\n",
      "\u001b[0;31mException\u001b[0m: Exceeded the maximum number of attempts for atom 0"
     ]
    }
   ],
   "source": [
    "# Read POSCAR file\n",
    "prim = read_vasp(file=f'{setup_variables[\"root_path\"]}/POSCAR')\n",
    "atoms_ideal = prim.repeat(cell_size)\n",
    "\n",
    "# Generate the structures\n",
    "structures = generate_mc_rattled_structures(atoms_ideal, n_structures, rattle_std, minimum_distance,\n",
    "                                           seed=1234)"
   ]
  },
  {
   "cell_type": "code",
   "execution_count": null,
   "id": "c10cbe43",
   "metadata": {},
   "outputs": [],
   "source": [
    "for idx in range(n_structures):\n",
    "    # Sort the chemical species\n",
    "    structure = sort(structures[idx])\n",
    "    \n",
    "    # Create disp folder\n",
    "    idx_path = f'{setup_variables[\"root_path\"]}/disp-{idx}'\n",
    "    os.mkdir(idx_path)\n",
    "    \n",
    "    # Write to POSCAR\n",
    "    write(f'{idx_path}/POSCAR', structure, format='vasp')"
   ]
  }
 ],
 "metadata": {
  "kernelspec": {
   "display_name": "Python 3 (ipykernel)",
   "language": "python",
   "name": "python3"
  },
  "language_info": {
   "codemirror_mode": {
    "name": "ipython",
    "version": 3
   },
   "file_extension": ".py",
   "mimetype": "text/x-python",
   "name": "python",
   "nbconvert_exporter": "python",
   "pygments_lexer": "ipython3",
   "version": "3.11.1"
  }
 },
 "nbformat": 4,
 "nbformat_minor": 5
}
